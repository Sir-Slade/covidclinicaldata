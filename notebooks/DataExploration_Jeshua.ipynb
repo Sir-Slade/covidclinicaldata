{
 "cells": [
  {
   "cell_type": "code",
   "execution_count": 74,
   "metadata": {},
   "outputs": [
    {
     "name": "stdout",
     "output_type": "stream",
     "text": [
      "['04-07_carbonhealth_and_braidhealth.csv', '04-14_carbonhealth_and_braidhealth.csv', '04-21_carbonhealth_and_braidhealth.csv', '04-28_carbonhealth_and_braidhealth.csv', '05-05_carbonhealth_and_braidhealth.csv', '05-12_carbonhealth_and_braidhealth.csv', '05-19_carbonhealth_and_braidhealth.csv', '05-26_carbonhealth_and_braidhealth.csv', '06-02_carbonhealth_and_braidhealth.csv', '06-09_carbonhealth_and_braidhealth.csv', '06-16_carbonhealth_and_braidhealth.csv', '06-23_carbonhealth_and_braidhealth.csv', '06-30_carbonhealth_and_braidhealth.csv', '07-07_carbonhealth_and_braidhealth.csv', '07-14_carbonhealth_and_braidhealth.csv', '07-21_carbonhealth_and_braidhealth.csv', '07-28_carbonhealth_and_braidhealth.csv', '08-04_carbonhealth_and_braidhealth.csv', '08-11_carbonhealth_and_braidhealth.csv', '08-18_carbonhealth_and_braidhealth.csv', '08-25_carbonhealth_and_braidhealth.csv', '09-01_carbonhealth_and_braidhealth.csv', '09-08_carbonhealth_and_braidhealth.csv', '09-15_carbonhealth_and_braidhealth.csv', '09-22_carbonhealth_and_braidhealth.csv', '09-29_carbonhealth_and_braidhealth.csv', '10-06_carbonhealth_and_braidhealth.csv', '10-13_carbonhealth_and_braidhealth.csv', '10-20_carbonhealth_and_braidhealth.csv']\n"
     ]
    }
   ],
   "source": [
    "import pandas as pd\n",
    "import numpy as np\n",
    "import seaborn as sns\n",
    "\n",
    "import glob\n",
    "import os\n",
    "\n",
    "os.chdir('../data/')\n",
    "all_data_available = glob.glob('*.csv')\n",
    "print(all_data_available)"
   ]
  },
  {
   "cell_type": "code",
   "execution_count": 90,
   "metadata": {},
   "outputs": [
    {
     "name": "stdout",
     "output_type": "stream",
     "text": [
      "04-07_carbonhealth_and_braidhealth.csv 0.061224489795918366\n",
      "All data size: 998\n",
      "04-21_carbonhealth_and_braidhealth.csv 0.03074141048824593\n",
      "All data size: 2104\n",
      "04-28_carbonhealth_and_braidhealth.csv 0.011996572407883462\n",
      "All data size: 3271\n",
      "05-05_carbonhealth_and_braidhealth.csv 0.018738288569643973\n",
      "All data size: 4872\n",
      "05-12_carbonhealth_and_braidhealth.csv 0.03541315345699832\n",
      "All data size: 5465\n",
      "05-19_carbonhealth_and_braidhealth.csv 0.05353319057815846\n",
      "All data size: 6399\n",
      "05-26_carbonhealth_and_braidhealth.csv 0.04533333333333334\n",
      "All data size: 7149\n",
      "06-02_carbonhealth_and_braidhealth.csv 0.03134479271991911\n",
      "All data size: 8138\n",
      "06-09_carbonhealth_and_braidhealth.csv 0.010725552050473186\n",
      "All data size: 9723\n",
      "06-16_carbonhealth_and_braidhealth.csv 0.011756569847856155\n",
      "All data size: 11169\n",
      "06-23_carbonhealth_and_braidhealth.csv 0.020618556701030927\n",
      "All data size: 13594\n",
      "06-30_carbonhealth_and_braidhealth.csv 0.03353204172876304\n",
      "All data size: 16278\n",
      "07-07_carbonhealth_and_braidhealth.csv 0.04249617151607963\n",
      "All data size: 18890\n",
      "07-14_carbonhealth_and_braidhealth.csv 0.02233169129720854\n",
      "All data size: 21935\n",
      "07-21_carbonhealth_and_braidhealth.csv 0.023444976076555026\n",
      "All data size: 26115\n",
      "07-28_carbonhealth_and_braidhealth.csv 0.013940031562335612\n",
      "All data size: 29917\n",
      "08-04_carbonhealth_and_braidhealth.csv 0.014721345951629864\n",
      "All data size: 33721\n",
      "08-11_carbonhealth_and_braidhealth.csv 0.011245431543435479\n",
      "08-11_carbonhealth_and_braidhealth.csv could not be merged\n",
      "08-18_carbonhealth_and_braidhealth.csv 0.011728395061728396\n",
      "All data size: 36961\n",
      "08-25_carbonhealth_and_braidhealth.csv 0.010537136982780776\n",
      "08-25_carbonhealth_and_braidhealth.csv could not be merged\n",
      "09-01_carbonhealth_and_braidhealth.csv 0.010668973471741637\n",
      "All data size: 40429\n",
      "09-08_carbonhealth_and_braidhealth.csv 0.013844822613210269\n",
      "All data size: 43896\n",
      "09-15_carbonhealth_and_braidhealth.csv 0.009369287020109689\n",
      "All data size: 48272\n",
      "09-22_carbonhealth_and_braidhealth.csv 0.006235154394299287\n",
      "All data size: 55008\n",
      "09-29_carbonhealth_and_braidhealth.csv 0.005561440677966102\n",
      "All data size: 62560\n",
      "10-06_carbonhealth_and_braidhealth.csv 0.006808510638297872\n",
      "All data size: 70785\n",
      "10-13_carbonhealth_and_braidhealth.csv 0.007321681624940954\n",
      "All data size: 79253\n",
      "10-20_carbonhealth_and_braidhealth.csv 0.0034274746366876885\n",
      "All data size: 86547\n",
      "<class 'pandas.core.frame.DataFrame'>\n",
      "RangeIndex: 7294 entries, 0 to 7293\n",
      "Data columns (total 45 columns):\n",
      " #   Column                         Non-Null Count  Dtype  \n",
      "---  ------                         --------------  -----  \n",
      " 0   batch_date                     7294 non-null   object \n",
      " 1   test_name                      7294 non-null   object \n",
      " 2   swab_type                      7294 non-null   object \n",
      " 3   covid19_test_results           7294 non-null   object \n",
      " 4   age                            7294 non-null   int64  \n",
      " 5   high_risk_exposure_occupation  7294 non-null   bool   \n",
      " 6   high_risk_interactions         2727 non-null   object \n",
      " 7   diabetes                       7294 non-null   bool   \n",
      " 8   chd                            7294 non-null   bool   \n",
      " 9   htn                            7294 non-null   bool   \n",
      " 10  cancer                         7294 non-null   bool   \n",
      " 11  asthma                         7294 non-null   bool   \n",
      " 12  copd                           7294 non-null   bool   \n",
      " 13  autoimmune_dis                 7294 non-null   bool   \n",
      " 14  smoker                         7294 non-null   bool   \n",
      " 15  temperature                    1869 non-null   float64\n",
      " 16  pulse                          1866 non-null   float64\n",
      " 17  sys                            1727 non-null   float64\n",
      " 18  dia                            1727 non-null   float64\n",
      " 19  rr                             1544 non-null   float64\n",
      " 20  sats                           1869 non-null   float64\n",
      " 21  rapid_flu_results              6 non-null      object \n",
      " 22  rapid_strep_results            11 non-null     object \n",
      " 23  ctab                           1288 non-null   object \n",
      " 24  labored_respiration            1963 non-null   object \n",
      " 25  rhonchi                        723 non-null    object \n",
      " 26  wheezes                        961 non-null    object \n",
      " 27  days_since_symptom_onset       591 non-null    float64\n",
      " 28  cough                          7294 non-null   bool   \n",
      " 29  cough_severity                 178 non-null    object \n",
      " 30  fever                          3137 non-null   object \n",
      " 31  sob                            7294 non-null   bool   \n",
      " 32  sob_severity                   82 non-null     object \n",
      " 33  diarrhea                       7294 non-null   bool   \n",
      " 34  fatigue                        7294 non-null   bool   \n",
      " 35  headache                       7294 non-null   bool   \n",
      " 36  loss_of_smell                  7294 non-null   bool   \n",
      " 37  loss_of_taste                  7294 non-null   bool   \n",
      " 38  runny_nose                     7294 non-null   bool   \n",
      " 39  muscle_sore                    7294 non-null   bool   \n",
      " 40  sore_throat                    7294 non-null   bool   \n",
      " 41  cxr_findings                   7 non-null      object \n",
      " 42  cxr_impression                 7 non-null      object \n",
      " 43  cxr_label                      7 non-null      object \n",
      " 44  cxr_link                       7 non-null      object \n",
      "dtypes: bool(19), float64(7), int64(1), object(18)\n",
      "memory usage: 1.6+ MB\n"
     ]
    }
   ],
   "source": [
    "all_data = pd.read_csv(\"../data/04-14_carbonhealth_and_braidhealth.csv\")\n",
    "for file in all_data_available:      \n",
    "    if file != \"04-14_carbonhealth_and_braidhealth.csv\":\n",
    "        try:\n",
    "            df = pd.read_csv(\"../data/\" + file)\n",
    "            print(file, df[\"covid19_test_results\"].value_counts()[\"Positive\"] / len(df[\"covid19_test_results\"]))\n",
    "            all_data = pd.merge(all_data, df, how=\"outer\")\n",
    "            print(\"All data size:\", len(all_data))\n",
    "        except:\n",
    "            print(file, \"could not be merged\")\n",
    "df.info()"
   ]
  },
  {
   "cell_type": "code",
   "execution_count": 94,
   "metadata": {},
   "outputs": [
    {
     "ename": "KeyError",
     "evalue": "\"['batch_date' 'rapid_flu_results' 'rapid_strep_results'] not found in axis\"",
     "output_type": "error",
     "traceback": [
      "\u001b[1;31m---------------------------------------------------------------------------\u001b[0m",
      "\u001b[1;31mKeyError\u001b[0m                                  Traceback (most recent call last)",
      "\u001b[1;32m<ipython-input-94-026c1bf19066>\u001b[0m in \u001b[0;36m<module>\u001b[1;34m\u001b[0m\n\u001b[1;32m----> 1\u001b[1;33m \u001b[0mall_data\u001b[0m\u001b[1;33m.\u001b[0m\u001b[0mdrop\u001b[0m\u001b[1;33m(\u001b[0m\u001b[0mcolumns\u001b[0m\u001b[1;33m=\u001b[0m\u001b[1;33m[\u001b[0m\u001b[1;34m\"batch_date\"\u001b[0m\u001b[1;33m,\u001b[0m \u001b[1;34m\"rapid_flu_results\"\u001b[0m\u001b[1;33m,\u001b[0m \u001b[1;34m\"rapid_strep_results\"\u001b[0m\u001b[1;33m]\u001b[0m\u001b[1;33m,\u001b[0m \u001b[0minplace\u001b[0m\u001b[1;33m=\u001b[0m\u001b[1;32mTrue\u001b[0m\u001b[1;33m)\u001b[0m\u001b[1;33m\u001b[0m\u001b[1;33m\u001b[0m\u001b[0m\n\u001b[0m",
      "\u001b[1;32mC:\\ProgramData\\Miniconda3\\envs\\basicML\\lib\\site-packages\\pandas\\core\\frame.py\u001b[0m in \u001b[0;36mdrop\u001b[1;34m(self, labels, axis, index, columns, level, inplace, errors)\u001b[0m\n\u001b[0;32m   4161\u001b[0m                 \u001b[0mweight\u001b[0m  \u001b[1;36m1.0\u001b[0m     \u001b[1;36m0.8\u001b[0m\u001b[1;33m\u001b[0m\u001b[1;33m\u001b[0m\u001b[0m\n\u001b[0;32m   4162\u001b[0m         \"\"\"\n\u001b[1;32m-> 4163\u001b[1;33m         return super().drop(\n\u001b[0m\u001b[0;32m   4164\u001b[0m             \u001b[0mlabels\u001b[0m\u001b[1;33m=\u001b[0m\u001b[0mlabels\u001b[0m\u001b[1;33m,\u001b[0m\u001b[1;33m\u001b[0m\u001b[1;33m\u001b[0m\u001b[0m\n\u001b[0;32m   4165\u001b[0m             \u001b[0maxis\u001b[0m\u001b[1;33m=\u001b[0m\u001b[0maxis\u001b[0m\u001b[1;33m,\u001b[0m\u001b[1;33m\u001b[0m\u001b[1;33m\u001b[0m\u001b[0m\n",
      "\u001b[1;32mC:\\ProgramData\\Miniconda3\\envs\\basicML\\lib\\site-packages\\pandas\\core\\generic.py\u001b[0m in \u001b[0;36mdrop\u001b[1;34m(self, labels, axis, index, columns, level, inplace, errors)\u001b[0m\n\u001b[0;32m   3885\u001b[0m         \u001b[1;32mfor\u001b[0m \u001b[0maxis\u001b[0m\u001b[1;33m,\u001b[0m \u001b[0mlabels\u001b[0m \u001b[1;32min\u001b[0m \u001b[0maxes\u001b[0m\u001b[1;33m.\u001b[0m\u001b[0mitems\u001b[0m\u001b[1;33m(\u001b[0m\u001b[1;33m)\u001b[0m\u001b[1;33m:\u001b[0m\u001b[1;33m\u001b[0m\u001b[1;33m\u001b[0m\u001b[0m\n\u001b[0;32m   3886\u001b[0m             \u001b[1;32mif\u001b[0m \u001b[0mlabels\u001b[0m \u001b[1;32mis\u001b[0m \u001b[1;32mnot\u001b[0m \u001b[1;32mNone\u001b[0m\u001b[1;33m:\u001b[0m\u001b[1;33m\u001b[0m\u001b[1;33m\u001b[0m\u001b[0m\n\u001b[1;32m-> 3887\u001b[1;33m                 \u001b[0mobj\u001b[0m \u001b[1;33m=\u001b[0m \u001b[0mobj\u001b[0m\u001b[1;33m.\u001b[0m\u001b[0m_drop_axis\u001b[0m\u001b[1;33m(\u001b[0m\u001b[0mlabels\u001b[0m\u001b[1;33m,\u001b[0m \u001b[0maxis\u001b[0m\u001b[1;33m,\u001b[0m \u001b[0mlevel\u001b[0m\u001b[1;33m=\u001b[0m\u001b[0mlevel\u001b[0m\u001b[1;33m,\u001b[0m \u001b[0merrors\u001b[0m\u001b[1;33m=\u001b[0m\u001b[0merrors\u001b[0m\u001b[1;33m)\u001b[0m\u001b[1;33m\u001b[0m\u001b[1;33m\u001b[0m\u001b[0m\n\u001b[0m\u001b[0;32m   3888\u001b[0m \u001b[1;33m\u001b[0m\u001b[0m\n\u001b[0;32m   3889\u001b[0m         \u001b[1;32mif\u001b[0m \u001b[0minplace\u001b[0m\u001b[1;33m:\u001b[0m\u001b[1;33m\u001b[0m\u001b[1;33m\u001b[0m\u001b[0m\n",
      "\u001b[1;32mC:\\ProgramData\\Miniconda3\\envs\\basicML\\lib\\site-packages\\pandas\\core\\generic.py\u001b[0m in \u001b[0;36m_drop_axis\u001b[1;34m(self, labels, axis, level, errors)\u001b[0m\n\u001b[0;32m   3919\u001b[0m                 \u001b[0mnew_axis\u001b[0m \u001b[1;33m=\u001b[0m \u001b[0maxis\u001b[0m\u001b[1;33m.\u001b[0m\u001b[0mdrop\u001b[0m\u001b[1;33m(\u001b[0m\u001b[0mlabels\u001b[0m\u001b[1;33m,\u001b[0m \u001b[0mlevel\u001b[0m\u001b[1;33m=\u001b[0m\u001b[0mlevel\u001b[0m\u001b[1;33m,\u001b[0m \u001b[0merrors\u001b[0m\u001b[1;33m=\u001b[0m\u001b[0merrors\u001b[0m\u001b[1;33m)\u001b[0m\u001b[1;33m\u001b[0m\u001b[1;33m\u001b[0m\u001b[0m\n\u001b[0;32m   3920\u001b[0m             \u001b[1;32melse\u001b[0m\u001b[1;33m:\u001b[0m\u001b[1;33m\u001b[0m\u001b[1;33m\u001b[0m\u001b[0m\n\u001b[1;32m-> 3921\u001b[1;33m                 \u001b[0mnew_axis\u001b[0m \u001b[1;33m=\u001b[0m \u001b[0maxis\u001b[0m\u001b[1;33m.\u001b[0m\u001b[0mdrop\u001b[0m\u001b[1;33m(\u001b[0m\u001b[0mlabels\u001b[0m\u001b[1;33m,\u001b[0m \u001b[0merrors\u001b[0m\u001b[1;33m=\u001b[0m\u001b[0merrors\u001b[0m\u001b[1;33m)\u001b[0m\u001b[1;33m\u001b[0m\u001b[1;33m\u001b[0m\u001b[0m\n\u001b[0m\u001b[0;32m   3922\u001b[0m             \u001b[0mresult\u001b[0m \u001b[1;33m=\u001b[0m \u001b[0mself\u001b[0m\u001b[1;33m.\u001b[0m\u001b[0mreindex\u001b[0m\u001b[1;33m(\u001b[0m\u001b[1;33m**\u001b[0m\u001b[1;33m{\u001b[0m\u001b[0maxis_name\u001b[0m\u001b[1;33m:\u001b[0m \u001b[0mnew_axis\u001b[0m\u001b[1;33m}\u001b[0m\u001b[1;33m)\u001b[0m\u001b[1;33m\u001b[0m\u001b[1;33m\u001b[0m\u001b[0m\n\u001b[0;32m   3923\u001b[0m \u001b[1;33m\u001b[0m\u001b[0m\n",
      "\u001b[1;32mC:\\ProgramData\\Miniconda3\\envs\\basicML\\lib\\site-packages\\pandas\\core\\indexes\\base.py\u001b[0m in \u001b[0;36mdrop\u001b[1;34m(self, labels, errors)\u001b[0m\n\u001b[0;32m   5280\u001b[0m         \u001b[1;32mif\u001b[0m \u001b[0mmask\u001b[0m\u001b[1;33m.\u001b[0m\u001b[0many\u001b[0m\u001b[1;33m(\u001b[0m\u001b[1;33m)\u001b[0m\u001b[1;33m:\u001b[0m\u001b[1;33m\u001b[0m\u001b[1;33m\u001b[0m\u001b[0m\n\u001b[0;32m   5281\u001b[0m             \u001b[1;32mif\u001b[0m \u001b[0merrors\u001b[0m \u001b[1;33m!=\u001b[0m \u001b[1;34m\"ignore\"\u001b[0m\u001b[1;33m:\u001b[0m\u001b[1;33m\u001b[0m\u001b[1;33m\u001b[0m\u001b[0m\n\u001b[1;32m-> 5282\u001b[1;33m                 \u001b[1;32mraise\u001b[0m \u001b[0mKeyError\u001b[0m\u001b[1;33m(\u001b[0m\u001b[1;34mf\"{labels[mask]} not found in axis\"\u001b[0m\u001b[1;33m)\u001b[0m\u001b[1;33m\u001b[0m\u001b[1;33m\u001b[0m\u001b[0m\n\u001b[0m\u001b[0;32m   5283\u001b[0m             \u001b[0mindexer\u001b[0m \u001b[1;33m=\u001b[0m \u001b[0mindexer\u001b[0m\u001b[1;33m[\u001b[0m\u001b[1;33m~\u001b[0m\u001b[0mmask\u001b[0m\u001b[1;33m]\u001b[0m\u001b[1;33m\u001b[0m\u001b[1;33m\u001b[0m\u001b[0m\n\u001b[0;32m   5284\u001b[0m         \u001b[1;32mreturn\u001b[0m \u001b[0mself\u001b[0m\u001b[1;33m.\u001b[0m\u001b[0mdelete\u001b[0m\u001b[1;33m(\u001b[0m\u001b[0mindexer\u001b[0m\u001b[1;33m)\u001b[0m\u001b[1;33m\u001b[0m\u001b[1;33m\u001b[0m\u001b[0m\n",
      "\u001b[1;31mKeyError\u001b[0m: \"['batch_date' 'rapid_flu_results' 'rapid_strep_results'] not found in axis\""
     ]
    }
   ],
   "source": [
    "all_data.drop(columns=[\"batch_date\", \"rapid_flu_results\", \"rapid_strep_results\"], inplace=True)"
   ]
  },
  {
   "cell_type": "code",
   "execution_count": 95,
   "metadata": {},
   "outputs": [
    {
     "name": "stdout",
     "output_type": "stream",
     "text": [
      "<class 'pandas.core.frame.DataFrame'>\n",
      "Int64Index: 86547 entries, 0 to 86546\n",
      "Data columns (total 43 columns):\n",
      " #   Column                         Non-Null Count  Dtype  \n",
      "---  ------                         --------------  -----  \n",
      " 0   test_name                      86547 non-null  object \n",
      " 1   swab_type                      86547 non-null  object \n",
      " 2   covid19_test_results           86547 non-null  object \n",
      " 3   age                            86547 non-null  int64  \n",
      " 4   high_risk_exposure_occupation  86378 non-null  object \n",
      " 5   high_risk_interactions         62163 non-null  object \n",
      " 6   diabetes                       86547 non-null  object \n",
      " 7   chd                            86547 non-null  object \n",
      " 8   htn                            86547 non-null  object \n",
      " 9   cancer                         86547 non-null  object \n",
      " 10  asthma                         86547 non-null  object \n",
      " 11  copd                           86547 non-null  object \n",
      " 12  autoimmune_dis                 86547 non-null  object \n",
      " 13  smoker                         86547 non-null  object \n",
      " 14  temperature                    43493 non-null  float64\n",
      " 15  pulse                          43988 non-null  float64\n",
      " 16  sys                            42414 non-null  float64\n",
      " 17  dia                            42414 non-null  float64\n",
      " 18  rr                             37723 non-null  float64\n",
      " 19  sats                           43264 non-null  float64\n",
      " 20  ctab                           32640 non-null  object \n",
      " 21  labored_respiration            44341 non-null  object \n",
      " 22  rhonchi                        21536 non-null  object \n",
      " 23  wheezes                        25265 non-null  object \n",
      " 24  days_since_symptom_onset       14825 non-null  float64\n",
      " 25  cough                          86532 non-null  object \n",
      " 26  cough_severity                 5386 non-null   object \n",
      " 27  fever                          63751 non-null  object \n",
      " 28  sob                            86341 non-null  object \n",
      " 29  sob_severity                   2686 non-null   object \n",
      " 30  diarrhea                       86360 non-null  object \n",
      " 31  fatigue                        86371 non-null  object \n",
      " 32  headache                       86364 non-null  object \n",
      " 33  loss_of_smell                  86357 non-null  object \n",
      " 34  loss_of_taste                  86357 non-null  object \n",
      " 35  runny_nose                     86360 non-null  object \n",
      " 36  muscle_sore                    86365 non-null  object \n",
      " 37  sore_throat                    86364 non-null  object \n",
      " 38  cxr_findings                   673 non-null    object \n",
      " 39  cxr_impression                 673 non-null    object \n",
      " 40  cxr_label                      673 non-null    object \n",
      " 41  cxr_link                       673 non-null    object \n",
      " 42  er_referral                    11169 non-null  object \n",
      "dtypes: float64(7), int64(1), object(35)\n",
      "memory usage: 29.1+ MB\n"
     ]
    }
   ],
   "source": [
    "all_data.info()"
   ]
  },
  {
   "cell_type": "code",
   "execution_count": 97,
   "metadata": {},
   "outputs": [
    {
     "name": "stdout",
     "output_type": "stream",
     "text": [
      "test_name: 11\n",
      "swab_type: 19\n",
      "covid19_test_results: 2\n",
      "age: 95\n",
      "high_risk_exposure_occupation: 3\n",
      "high_risk_interactions: 3\n",
      "diabetes: 2\n",
      "chd: 2\n",
      "htn: 2\n",
      "cancer: 2\n",
      "asthma: 2\n",
      "copd: 2\n",
      "autoimmune_dis: 2\n",
      "smoker: 2\n",
      "temperature: 87\n",
      "pulse: 113\n",
      "sys: 104\n",
      "dia: 92\n",
      "rr: 29\n",
      "sats: 21\n",
      "ctab: 3\n",
      "labored_respiration: 3\n",
      "rhonchi: 3\n",
      "wheezes: 3\n",
      "days_since_symptom_onset: 21\n",
      "cough: 3\n",
      "cough_severity: 4\n",
      "fever: 3\n",
      "sob: 3\n",
      "sob_severity: 4\n",
      "diarrhea: 3\n",
      "fatigue: 3\n",
      "headache: 3\n",
      "loss_of_smell: 3\n",
      "loss_of_taste: 3\n",
      "runny_nose: 3\n",
      "muscle_sore: 3\n",
      "sore_throat: 3\n",
      "cxr_findings: 295\n",
      "cxr_impression: 245\n",
      "cxr_label: 4\n",
      "cxr_link: 669\n",
      "er_referral: 2\n"
     ]
    }
   ],
   "source": [
    "#Lets see how many unique values each column has\n",
    "for column in all_data.columns:\n",
    "    print(column, len(all_data[column].unique()), sep=\": \")"
   ]
  },
  {
   "cell_type": "code",
   "execution_count": 100,
   "metadata": {},
   "outputs": [
    {
     "data": {
      "text/plain": [
       "0.1689059500959693"
      ]
     },
     "execution_count": 100,
     "metadata": {},
     "output_type": "execute_result"
    }
   ],
   "source": [
    "all_data[\"covid19_test_results\"].value_counts()[\"Positive\"] / len(df[\"covid19_test_results\"])"
   ]
  },
  {
   "cell_type": "code",
   "execution_count": 102,
   "metadata": {},
   "outputs": [
    {
     "name": "stdout",
     "output_type": "stream",
     "text": [
      "<class 'pandas.core.frame.DataFrame'>\n",
      "Int64Index: 85315 entries, 0 to 86546\n",
      "Data columns (total 10 columns):\n",
      " #   Column               Non-Null Count  Dtype  \n",
      "---  ------               --------------  -----  \n",
      " 0   temperature          42494 non-null  float64\n",
      " 1   pulse                42981 non-null  float64\n",
      " 2   sys                  41422 non-null  float64\n",
      " 3   dia                  41422 non-null  float64\n",
      " 4   rr                   36823 non-null  float64\n",
      " 5   sats                 42260 non-null  float64\n",
      " 6   ctab                 31811 non-null  object \n",
      " 7   labored_respiration  43338 non-null  object \n",
      " 8   rhonchi              20972 non-null  object \n",
      " 9   wheezes              24613 non-null  object \n",
      "dtypes: float64(6), object(4)\n",
      "memory usage: 7.2+ MB\n"
     ]
    }
   ],
   "source": [
    "all_data[all_data[\"covid19_test_results\"] == \"Negative\"].iloc[:,14:24].info()"
   ]
  },
  {
   "cell_type": "code",
   "execution_count": 109,
   "metadata": {},
   "outputs": [
    {
     "name": "stderr",
     "output_type": "stream",
     "text": [
      "C:\\ProgramData\\Miniconda3\\envs\\basicML\\lib\\site-packages\\seaborn\\distributions.py:2551: FutureWarning: `distplot` is a deprecated function and will be removed in a future version. Please adapt your code to use either `displot` (a figure-level function with similar flexibility) or `histplot` (an axes-level function for histograms).\n",
      "  warnings.warn(msg, FutureWarning)\n"
     ]
    },
    {
     "data": {
      "text/plain": [
       "<AxesSubplot:xlabel='age', ylabel='Density'>"
      ]
     },
     "execution_count": 109,
     "metadata": {},
     "output_type": "execute_result"
    },
    {
     "data": {
      "image/png": "[encoded data removed]",
      "text/plain": [
       "<Figure size 432x288 with 1 Axes>"
      ]
     },
     "metadata": {
      "needs_background": "light"
     },
     "output_type": "display_data"
    }
   ],
   "source": [
    "sns.distplot(all_data[all_data[\"covid19_test_results\"] == \"Positive\"][\"age\"])\n",
    "sns.distplot(all_data[all_data[\"covid19_test_results\"] == \"Negative\"][\"age\"])"
   ]
  },
  {
   "cell_type": "code",
   "execution_count": 110,
   "metadata": {},
   "outputs": [
    {
     "name": "stderr",
     "output_type": "stream",
     "text": [
      "C:\\ProgramData\\Miniconda3\\envs\\basicML\\lib\\site-packages\\seaborn\\distributions.py:2551: FutureWarning: `distplot` is a deprecated function and will be removed in a future version. Please adapt your code to use either `displot` (a figure-level function with similar flexibility) or `histplot` (an axes-level function for histograms).\n",
      "  warnings.warn(msg, FutureWarning)\n"
     ]
    },
    {
     "data": {
      "text/plain": [
       "<AxesSubplot:xlabel='age', ylabel='Density'>"
      ]
     },
     "execution_count": 110,
     "metadata": {},
     "output_type": "execute_result"
    },
    {
     "data": {
      "image/png": "[encoded data removed]",
      "text/plain": [
       "<Figure size 432x288 with 1 Axes>"
      ]
     },
     "metadata": {
      "needs_background": "light"
     },
     "output_type": "display_data"
    }
   ],
   "source": [
    "sns.distplot(all_data[all_data[\"covid19_test_results\"] == \"Negative\"][\"age\"])"
   ]
  },
  {
   "cell_type": "code",
   "execution_count": null,
   "metadata": {},
   "outputs": [],
   "source": []
  }
 ],
 "metadata": {
  "kernelspec": {
   "display_name": "Python 3",
   "language": "python",
   "name": "python3"
  },
  "language_info": {
   "codemirror_mode": {
    "name": "ipython",
    "version": 3
   },
   "file_extension": ".py",
   "mimetype": "text/x-python",
   "name": "python",
   "nbconvert_exporter": "python",
   "pygments_lexer": "ipython3",
   "version": "3.8.5"
  }
 },
 "nbformat": 4,
 "nbformat_minor": 4
}
