{
 "cells": [
  {
   "cell_type": "code",
   "execution_count": 1,
   "metadata": {},
   "outputs": [],
   "source": [
    "import pandas as pd\n",
    "import numpy as np\n"
   ]
  },
  {
   "cell_type": "code",
   "execution_count": 6,
   "metadata": {},
   "outputs": [
    {
     "name": "stdout",
     "output_type": "stream",
     "text": [
      "<class 'pandas.core.frame.DataFrame'>\n",
      "RangeIndex: 7294 entries, 0 to 7293\n",
      "Data columns (total 45 columns):\n",
      " #   Column                         Non-Null Count  Dtype  \n",
      "---  ------                         --------------  -----  \n",
      " 0   batch_date                     7294 non-null   object \n",
      " 1   test_name                      7294 non-null   object \n",
      " 2   swab_type                      7294 non-null   object \n",
      " 3   covid19_test_results           7294 non-null   object \n",
      " 4   age                            7294 non-null   int64  \n",
      " 5   high_risk_exposure_occupation  7294 non-null   bool   \n",
      " 6   high_risk_interactions         2727 non-null   object \n",
      " 7   diabetes                       7294 non-null   bool   \n",
      " 8   chd                            7294 non-null   bool   \n",
      " 9   htn                            7294 non-null   bool   \n",
      " 10  cancer                         7294 non-null   bool   \n",
      " 11  asthma                         7294 non-null   bool   \n",
      " 12  copd                           7294 non-null   bool   \n",
      " 13  autoimmune_dis                 7294 non-null   bool   \n",
      " 14  smoker                         7294 non-null   bool   \n",
      " 15  temperature                    1869 non-null   float64\n",
      " 16  pulse                          1866 non-null   float64\n",
      " 17  sys                            1727 non-null   float64\n",
      " 18  dia                            1727 non-null   float64\n",
      " 19  rr                             1544 non-null   float64\n",
      " 20  sats                           1869 non-null   float64\n",
      " 21  rapid_flu_results              6 non-null      object \n",
      " 22  rapid_strep_results            11 non-null     object \n",
      " 23  ctab                           1288 non-null   object \n",
      " 24  labored_respiration            1963 non-null   object \n",
      " 25  rhonchi                        723 non-null    object \n",
      " 26  wheezes                        961 non-null    object \n",
      " 27  days_since_symptom_onset       591 non-null    float64\n",
      " 28  cough                          7294 non-null   bool   \n",
      " 29  cough_severity                 178 non-null    object \n",
      " 30  fever                          3137 non-null   object \n",
      " 31  sob                            7294 non-null   bool   \n",
      " 32  sob_severity                   82 non-null     object \n",
      " 33  diarrhea                       7294 non-null   bool   \n",
      " 34  fatigue                        7294 non-null   bool   \n",
      " 35  headache                       7294 non-null   bool   \n",
      " 36  loss_of_smell                  7294 non-null   bool   \n",
      " 37  loss_of_taste                  7294 non-null   bool   \n",
      " 38  runny_nose                     7294 non-null   bool   \n",
      " 39  muscle_sore                    7294 non-null   bool   \n",
      " 40  sore_throat                    7294 non-null   bool   \n",
      " 41  cxr_findings                   7 non-null      object \n",
      " 42  cxr_impression                 7 non-null      object \n",
      " 43  cxr_label                      7 non-null      object \n",
      " 44  cxr_link                       7 non-null      object \n",
      "dtypes: bool(19), float64(7), int64(1), object(18)\n",
      "memory usage: 1.6+ MB\n"
     ]
    }
   ],
   "source": [
    "df = pd.read_csv(\"../10-20_carbonhealth_and_braidhealth.csv\")\n",
    "df.info()"
   ]
  },
  {
   "cell_type": "code",
   "execution_count": null,
   "metadata": {},
   "outputs": [],
   "source": [
    "df.drop(columns=[\"batch_date\", \"rapid_flu_results\", \"rapid_strep_results\"], inplace=True)\n"
   ]
  }
 ],
 "metadata": {
  "kernelspec": {
   "display_name": "Python 3",
   "language": "python",
   "name": "python3"
  },
  "language_info": {
   "codemirror_mode": {
    "name": "ipython",
    "version": 3
   },
   "file_extension": ".py",
   "mimetype": "text/x-python",
   "name": "python",
   "nbconvert_exporter": "python",
   "pygments_lexer": "ipython3",
   "version": "3.8.5"
  }
 },
 "nbformat": 4,
 "nbformat_minor": 4
}
