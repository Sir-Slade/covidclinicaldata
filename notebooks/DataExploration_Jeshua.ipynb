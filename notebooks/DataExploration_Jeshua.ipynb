{
 "cells": [
  {
   "cell_type": "code",
   "execution_count": 1,
   "metadata": {},
   "outputs": [
    {
     "name": "stdout",
     "output_type": "stream",
     "text": [
      "['04-07_carbonhealth_and_braidhealth.csv', '04-14_carbonhealth_and_braidhealth.csv', '04-21_carbonhealth_and_braidhealth.csv', '04-28_carbonhealth_and_braidhealth.csv', '05-05_carbonhealth_and_braidhealth.csv', '05-12_carbonhealth_and_braidhealth.csv', '05-19_carbonhealth_and_braidhealth.csv', '05-26_carbonhealth_and_braidhealth.csv', '06-02_carbonhealth_and_braidhealth.csv', '06-09_carbonhealth_and_braidhealth.csv', '06-16_carbonhealth_and_braidhealth.csv', '06-23_carbonhealth_and_braidhealth.csv', '06-30_carbonhealth_and_braidhealth.csv', '07-07_carbonhealth_and_braidhealth.csv', '07-14_carbonhealth_and_braidhealth.csv', '07-21_carbonhealth_and_braidhealth.csv', '07-28_carbonhealth_and_braidhealth.csv', '08-04_carbonhealth_and_braidhealth.csv', '08-11_carbonhealth_and_braidhealth.csv', '08-18_carbonhealth_and_braidhealth.csv', '08-25_carbonhealth_and_braidhealth.csv', '09-01_carbonhealth_and_braidhealth.csv', '09-08_carbonhealth_and_braidhealth.csv', '09-15_carbonhealth_and_braidhealth.csv', '09-22_carbonhealth_and_braidhealth.csv', '09-29_carbonhealth_and_braidhealth.csv', '10-06_carbonhealth_and_braidhealth.csv', '10-13_carbonhealth_and_braidhealth.csv', '10-20_carbonhealth_and_braidhealth.csv']\n"
     ]
    }
   ],
   "source": [
    "import pandas as pd\n",
    "import numpy as np\n",
    "import seaborn as sns\n",
    "\n",
    "import glob\n",
    "import os\n",
    "\n",
    "os.chdir('../data/')\n",
    "all_data_available = glob.glob('*.csv')\n",
    "print(all_data_available)"
   ]
  },
  {
   "cell_type": "code",
   "execution_count": 2,
   "metadata": {},
   "outputs": [
    {
     "name": "stdout",
     "output_type": "stream",
     "text": [
      "04-07_carbonhealth_and_braidhealth.csv 0.061224489795918366\n",
      "All data size: 998\n",
      "04-21_carbonhealth_and_braidhealth.csv 0.03074141048824593\n",
      "All data size: 2104\n",
      "04-28_carbonhealth_and_braidhealth.csv 0.011996572407883462\n",
      "All data size: 3271\n",
      "05-05_carbonhealth_and_braidhealth.csv 0.018738288569643973\n",
      "All data size: 4872\n",
      "05-12_carbonhealth_and_braidhealth.csv 0.03541315345699832\n",
      "All data size: 5465\n",
      "05-19_carbonhealth_and_braidhealth.csv 0.05353319057815846\n",
      "All data size: 6399\n",
      "05-26_carbonhealth_and_braidhealth.csv 0.04533333333333334\n",
      "All data size: 7149\n",
      "06-02_carbonhealth_and_braidhealth.csv 0.03134479271991911\n",
      "All data size: 8138\n",
      "06-09_carbonhealth_and_braidhealth.csv 0.010725552050473186\n",
      "All data size: 9723\n",
      "06-16_carbonhealth_and_braidhealth.csv 0.011756569847856155\n",
      "All data size: 11169\n",
      "06-23_carbonhealth_and_braidhealth.csv 0.020618556701030927\n",
      "All data size: 13594\n",
      "06-30_carbonhealth_and_braidhealth.csv 0.03353204172876304\n",
      "All data size: 16278\n",
      "07-07_carbonhealth_and_braidhealth.csv 0.04249617151607963\n",
      "All data size: 18890\n",
      "07-14_carbonhealth_and_braidhealth.csv 0.02233169129720854\n",
      "All data size: 21935\n",
      "07-21_carbonhealth_and_braidhealth.csv 0.023444976076555026\n",
      "All data size: 26115\n",
      "07-28_carbonhealth_and_braidhealth.csv 0.013940031562335612\n",
      "All data size: 29917\n",
      "08-04_carbonhealth_and_braidhealth.csv 0.014721345951629864\n",
      "All data size: 33721\n",
      "08-11_carbonhealth_and_braidhealth.csv 0.011245431543435479\n",
      "All data size: 37278\n",
      "08-18_carbonhealth_and_braidhealth.csv 0.011728395061728396\n",
      "All data size: 40518\n",
      "08-25_carbonhealth_and_braidhealth.csv 0.010537136982780776\n",
      "All data size: 44409\n",
      "09-01_carbonhealth_and_braidhealth.csv 0.010668973471741637\n",
      "All data size: 47877\n",
      "09-08_carbonhealth_and_braidhealth.csv 0.013844822613210269\n",
      "All data size: 51344\n",
      "09-15_carbonhealth_and_braidhealth.csv 0.009369287020109689\n",
      "All data size: 55720\n",
      "09-22_carbonhealth_and_braidhealth.csv 0.006235154394299287\n",
      "All data size: 62456\n",
      "09-29_carbonhealth_and_braidhealth.csv 0.005561440677966102\n",
      "All data size: 70008\n",
      "10-06_carbonhealth_and_braidhealth.csv 0.006808510638297872\n",
      "All data size: 78233\n",
      "10-13_carbonhealth_and_braidhealth.csv 0.007321681624940954\n",
      "All data size: 86701\n",
      "10-20_carbonhealth_and_braidhealth.csv 0.0034274746366876885\n",
      "All data size: 93995\n"
     ]
    }
   ],
   "source": [
    "all_data = pd.read_csv(\"../data/04-14_carbonhealth_and_braidhealth.csv\")\n",
    "\n",
    "for file in all_data_available:      \n",
    "    if file != \"04-14_carbonhealth_and_braidhealth.csv\":\n",
    "        df = pd.read_csv(\"../data/\" + file)\n",
    "        print(file, df[\"covid19_test_results\"].value_counts()[\"Positive\"] / len(df[\"covid19_test_results\"]))\n",
    "        try:\n",
    "            df[\"rapid_flu_results\"] = df[\"rapid_flu_results\"].astype(\"object\") #Because in 2 files all values are null and because of that pandas changes the column type to float\n",
    "            all_data = pd.merge(all_data, df, how=\"outer\")\n",
    "            \n",
    "        except Exception as e:\n",
    "            print(file, \"could not be merged:\", e)\n",
    "            print(len(df), \"rows were left out\")\n",
    "            \n",
    "        print(\"All data size:\", len(all_data))"
   ]
  },
  {
   "cell_type": "code",
   "execution_count": 3,
   "metadata": {},
   "outputs": [],
   "source": [
    "all_data.drop(columns=[\"batch_date\"], inplace=True)"
   ]
  },
  {
   "cell_type": "code",
   "execution_count": 4,
   "metadata": {},
   "outputs": [
    {
     "name": "stdout",
     "output_type": "stream",
     "text": [
      "<class 'pandas.core.frame.DataFrame'>\n",
      "Int64Index: 93995 entries, 0 to 93994\n",
      "Data columns (total 45 columns):\n",
      " #   Column                         Non-Null Count  Dtype  \n",
      "---  ------                         --------------  -----  \n",
      " 0   test_name                      93995 non-null  object \n",
      " 1   swab_type                      93995 non-null  object \n",
      " 2   covid19_test_results           93995 non-null  object \n",
      " 3   age                            93995 non-null  int64  \n",
      " 4   high_risk_exposure_occupation  93826 non-null  object \n",
      " 5   high_risk_interactions         69168 non-null  object \n",
      " 6   diabetes                       93995 non-null  object \n",
      " 7   chd                            93995 non-null  object \n",
      " 8   htn                            93995 non-null  object \n",
      " 9   cancer                         93995 non-null  object \n",
      " 10  asthma                         93995 non-null  object \n",
      " 11  copd                           93995 non-null  object \n",
      " 12  autoimmune_dis                 93995 non-null  object \n",
      " 13  smoker                         93995 non-null  object \n",
      " 14  temperature                    47542 non-null  float64\n",
      " 15  pulse                          48279 non-null  float64\n",
      " 16  sys                            46523 non-null  float64\n",
      " 17  dia                            46523 non-null  float64\n",
      " 18  rr                             41448 non-null  float64\n",
      " 19  sats                           47535 non-null  float64\n",
      " 20  rapid_flu_results              254 non-null    object \n",
      " 21  rapid_strep_results            391 non-null    object \n",
      " 22  ctab                           35467 non-null  object \n",
      " 23  labored_respiration            48747 non-null  object \n",
      " 24  rhonchi                        23344 non-null  object \n",
      " 25  wheezes                        27488 non-null  object \n",
      " 26  days_since_symptom_onset       15865 non-null  float64\n",
      " 27  cough                          93980 non-null  object \n",
      " 28  cough_severity                 5711 non-null   object \n",
      " 29  fever                          71074 non-null  object \n",
      " 30  sob                            93789 non-null  object \n",
      " 31  sob_severity                   2836 non-null   object \n",
      " 32  diarrhea                       93808 non-null  object \n",
      " 33  fatigue                        93819 non-null  object \n",
      " 34  headache                       93812 non-null  object \n",
      " 35  loss_of_smell                  93805 non-null  object \n",
      " 36  loss_of_taste                  93805 non-null  object \n",
      " 37  runny_nose                     93808 non-null  object \n",
      " 38  muscle_sore                    93813 non-null  object \n",
      " 39  sore_throat                    93812 non-null  object \n",
      " 40  cxr_findings                   689 non-null    object \n",
      " 41  cxr_impression                 689 non-null    object \n",
      " 42  cxr_label                      689 non-null    object \n",
      " 43  cxr_link                       689 non-null    object \n",
      " 44  er_referral                    11169 non-null  object \n",
      "dtypes: float64(7), int64(1), object(37)\n",
      "memory usage: 33.0+ MB\n",
      "Positive\n",
      "<class 'pandas.core.frame.DataFrame'>\n",
      "Int64Index: 1313 entries, 6 to 93813\n",
      "Data columns (total 45 columns):\n",
      " #   Column                         Non-Null Count  Dtype  \n",
      "---  ------                         --------------  -----  \n",
      " 0   test_name                      1313 non-null   object \n",
      " 1   swab_type                      1313 non-null   object \n",
      " 2   covid19_test_results           1313 non-null   object \n",
      " 3   age                            1313 non-null   int64  \n",
      " 4   high_risk_exposure_occupation  1308 non-null   object \n",
      " 5   high_risk_interactions         1078 non-null   object \n",
      " 6   diabetes                       1313 non-null   object \n",
      " 7   chd                            1313 non-null   object \n",
      " 8   htn                            1313 non-null   object \n",
      " 9   cancer                         1313 non-null   object \n",
      " 10  asthma                         1313 non-null   object \n",
      " 11  copd                           1313 non-null   object \n",
      " 12  autoimmune_dis                 1313 non-null   object \n",
      " 13  smoker                         1313 non-null   object \n",
      " 14  temperature                    1071 non-null   float64\n",
      " 15  pulse                          1082 non-null   float64\n",
      " 16  sys                            1064 non-null   float64\n",
      " 17  dia                            1064 non-null   float64\n",
      " 18  rr                             968 non-null    float64\n",
      " 19  sats                           1076 non-null   float64\n",
      " 20  rapid_flu_results              23 non-null     object \n",
      " 21  rapid_strep_results            20 non-null     object \n",
      " 22  ctab                           885 non-null    object \n",
      " 23  labored_respiration            1077 non-null   object \n",
      " 24  rhonchi                        591 non-null    object \n",
      " 25  wheezes                        690 non-null    object \n",
      " 26  days_since_symptom_onset       670 non-null    float64\n",
      " 27  cough                          1313 non-null   object \n",
      " 28  cough_severity                 376 non-null    object \n",
      " 29  fever                          1106 non-null   object \n",
      " 30  sob                            1308 non-null   object \n",
      " 31  sob_severity                   92 non-null     object \n",
      " 32  diarrhea                       1308 non-null   object \n",
      " 33  fatigue                        1308 non-null   object \n",
      " 34  headache                       1308 non-null   object \n",
      " 35  loss_of_smell                  1308 non-null   object \n",
      " 36  loss_of_taste                  1308 non-null   object \n",
      " 37  runny_nose                     1308 non-null   object \n",
      " 38  muscle_sore                    1308 non-null   object \n",
      " 39  sore_throat                    1308 non-null   object \n",
      " 40  cxr_findings                   45 non-null     object \n",
      " 41  cxr_impression                 45 non-null     object \n",
      " 42  cxr_label                      45 non-null     object \n",
      " 43  cxr_link                       45 non-null     object \n",
      " 44  er_referral                    315 non-null    object \n",
      "dtypes: float64(7), int64(1), object(37)\n",
      "memory usage: 471.9+ KB\n",
      "Negative\n",
      "<class 'pandas.core.frame.DataFrame'>\n",
      "Int64Index: 92682 entries, 0 to 93994\n",
      "Data columns (total 45 columns):\n",
      " #   Column                         Non-Null Count  Dtype  \n",
      "---  ------                         --------------  -----  \n",
      " 0   test_name                      92682 non-null  object \n",
      " 1   swab_type                      92682 non-null  object \n",
      " 2   covid19_test_results           92682 non-null  object \n",
      " 3   age                            92682 non-null  int64  \n",
      " 4   high_risk_exposure_occupation  92518 non-null  object \n",
      " 5   high_risk_interactions         68090 non-null  object \n",
      " 6   diabetes                       92682 non-null  object \n",
      " 7   chd                            92682 non-null  object \n",
      " 8   htn                            92682 non-null  object \n",
      " 9   cancer                         92682 non-null  object \n",
      " 10  asthma                         92682 non-null  object \n",
      " 11  copd                           92682 non-null  object \n",
      " 12  autoimmune_dis                 92682 non-null  object \n",
      " 13  smoker                         92682 non-null  object \n",
      " 14  temperature                    46471 non-null  float64\n",
      " 15  pulse                          47197 non-null  float64\n",
      " 16  sys                            45459 non-null  float64\n",
      " 17  dia                            45459 non-null  float64\n",
      " 18  rr                             40480 non-null  float64\n",
      " 19  sats                           46459 non-null  float64\n",
      " 20  rapid_flu_results              231 non-null    object \n",
      " 21  rapid_strep_results            371 non-null    object \n",
      " 22  ctab                           34582 non-null  object \n",
      " 23  labored_respiration            47670 non-null  object \n",
      " 24  rhonchi                        22753 non-null  object \n",
      " 25  wheezes                        26798 non-null  object \n",
      " 26  days_since_symptom_onset       15195 non-null  float64\n",
      " 27  cough                          92667 non-null  object \n",
      " 28  cough_severity                 5335 non-null   object \n",
      " 29  fever                          69968 non-null  object \n",
      " 30  sob                            92481 non-null  object \n",
      " 31  sob_severity                   2744 non-null   object \n",
      " 32  diarrhea                       92500 non-null  object \n",
      " 33  fatigue                        92511 non-null  object \n",
      " 34  headache                       92504 non-null  object \n",
      " 35  loss_of_smell                  92497 non-null  object \n",
      " 36  loss_of_taste                  92497 non-null  object \n",
      " 37  runny_nose                     92500 non-null  object \n",
      " 38  muscle_sore                    92505 non-null  object \n",
      " 39  sore_throat                    92504 non-null  object \n",
      " 40  cxr_findings                   644 non-null    object \n",
      " 41  cxr_impression                 644 non-null    object \n",
      " 42  cxr_label                      644 non-null    object \n",
      " 43  cxr_link                       644 non-null    object \n",
      " 44  er_referral                    10854 non-null  object \n",
      "dtypes: float64(7), int64(1), object(37)\n",
      "memory usage: 32.5+ MB\n"
     ]
    }
   ],
   "source": [
    "all_data.info()\n",
    "print(\"Positive\")\n",
    "all_data[all_data[\"covid19_test_results\"] == \"Positive\"].info()\n",
    "print(\"Negative\")\n",
    "all_data[all_data[\"covid19_test_results\"] == \"Negative\"].info()"
   ]
  },
  {
   "cell_type": "code",
   "execution_count": 5,
   "metadata": {},
   "outputs": [
    {
     "name": "stdout",
     "output_type": "stream",
     "text": [
      "test_name: 11\n",
      "swab_type: 19\n",
      "covid19_test_results: 2\n",
      "age: 95\n",
      "high_risk_exposure_occupation: 3\n",
      "high_risk_interactions: 3\n",
      "diabetes: 2\n",
      "chd: 2\n",
      "htn: 2\n",
      "cancer: 2\n",
      "asthma: 2\n",
      "copd: 2\n",
      "autoimmune_dis: 2\n",
      "smoker: 2\n",
      "temperature: 87\n",
      "pulse: 114\n",
      "sys: 104\n",
      "dia: 93\n",
      "rr: 29\n",
      "sats: 22\n",
      "rapid_flu_results: 3\n",
      "rapid_strep_results: 4\n",
      "ctab: 3\n",
      "labored_respiration: 3\n",
      "rhonchi: 3\n",
      "wheezes: 3\n",
      "days_since_symptom_onset: 21\n",
      "cough: 3\n",
      "cough_severity: 4\n",
      "fever: 3\n",
      "sob: 3\n",
      "sob_severity: 4\n",
      "diarrhea: 3\n",
      "fatigue: 3\n",
      "headache: 3\n",
      "loss_of_smell: 3\n",
      "loss_of_taste: 3\n",
      "runny_nose: 3\n",
      "muscle_sore: 3\n",
      "sore_throat: 3\n",
      "cxr_findings: 302\n",
      "cxr_impression: 250\n",
      "cxr_label: 4\n",
      "cxr_link: 684\n",
      "er_referral: 2\n"
     ]
    }
   ],
   "source": [
    "#Lets see how many unique values each column has\n",
    "for column in all_data.columns:\n",
    "    print(column, len(all_data[column].unique()), sep=\": \")"
   ]
  },
  {
   "cell_type": "code",
   "execution_count": 24,
   "metadata": {},
   "outputs": [
    {
     "data": {
      "text/plain": [
       "1232"
      ]
     },
     "execution_count": 24,
     "metadata": {},
     "output_type": "execute_result"
    }
   ],
   "source": [
    "all_data[\"covid19_test_results\"].value_counts()[\"Positive\"] / len(all_data[\"covid19_test_results\"])"
   ]
  },
  {
   "cell_type": "code",
   "execution_count": 9,
   "metadata": {},
   "outputs": [
    {
     "name": "stdout",
     "output_type": "stream",
     "text": [
      "<class 'pandas.core.frame.DataFrame'>\n",
      "Int64Index: 85315 entries, 0 to 86546\n",
      "Data columns (total 10 columns):\n",
      " #   Column               Non-Null Count  Dtype  \n",
      "---  ------               --------------  -----  \n",
      " 0   temperature          42494 non-null  float64\n",
      " 1   pulse                42981 non-null  float64\n",
      " 2   sys                  41422 non-null  float64\n",
      " 3   dia                  41422 non-null  float64\n",
      " 4   rr                   36823 non-null  float64\n",
      " 5   sats                 42260 non-null  float64\n",
      " 6   ctab                 31811 non-null  object \n",
      " 7   labored_respiration  43338 non-null  object \n",
      " 8   rhonchi              20972 non-null  object \n",
      " 9   wheezes              24613 non-null  object \n",
      "dtypes: float64(6), object(4)\n",
      "memory usage: 7.2+ MB\n"
     ]
    }
   ],
   "source": [
    "all_data[all_data[\"covid19_test_results\"] == \"Negative\"].iloc[:,14:24].info()"
   ]
  },
  {
   "cell_type": "code",
   "execution_count": 34,
   "metadata": {},
   "outputs": [
    {
     "data": {
      "text/plain": [
       "dtype('O')"
      ]
     },
     "execution_count": 34,
     "metadata": {},
     "output_type": "execute_result"
    }
   ],
   "source": [
    "all_data[\"high_risk_exposure_occupation\"].dtype"
   ]
  },
  {
   "cell_type": "code",
   "execution_count": null,
   "metadata": {},
   "outputs": [],
   "source": [
    "]"
   ]
  }
 ],
 "metadata": {
  "kernelspec": {
   "display_name": "Python 3",
   "language": "python",
   "name": "python3"
  },
  "language_info": {
   "codemirror_mode": {
    "name": "ipython",
    "version": 3
   },
   "file_extension": ".py",
   "mimetype": "text/x-python",
   "name": "python",
   "nbconvert_exporter": "python",
   "pygments_lexer": "ipython3",
   "version": "3.8.5"
  }
 },
 "nbformat": 4,
 "nbformat_minor": 4
}
