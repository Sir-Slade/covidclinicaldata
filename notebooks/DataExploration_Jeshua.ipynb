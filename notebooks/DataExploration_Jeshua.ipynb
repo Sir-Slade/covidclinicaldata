{
 "cells": [
  {
   "cell_type": "markdown",
   "metadata": {},
   "source": [
    "# COVID19 - Building a model from the clinical data"
   ]
  },
  {
   "cell_type": "markdown",
   "metadata": {},
   "source": [
    "In this notebook I will unify, explore and clean the clinical data in this repository. After that I will try to build a model to predict whether the coronavirus test will be positive or negative, ie, clinically diagnose COVID19"
   ]
  },
  {
   "cell_type": "code",
   "execution_count": 1,
   "metadata": {},
   "outputs": [
    {
     "name": "stdout",
     "output_type": "stream",
     "text": [
      "['04-07_carbonhealth_and_braidhealth.csv', '04-14_carbonhealth_and_braidhealth.csv', '04-21_carbonhealth_and_braidhealth.csv', '04-28_carbonhealth_and_braidhealth.csv', '05-05_carbonhealth_and_braidhealth.csv', '05-12_carbonhealth_and_braidhealth.csv', '05-19_carbonhealth_and_braidhealth.csv', '05-26_carbonhealth_and_braidhealth.csv', '06-02_carbonhealth_and_braidhealth.csv', '06-09_carbonhealth_and_braidhealth.csv', '06-16_carbonhealth_and_braidhealth.csv', '06-23_carbonhealth_and_braidhealth.csv', '06-30_carbonhealth_and_braidhealth.csv', '07-07_carbonhealth_and_braidhealth.csv', '07-14_carbonhealth_and_braidhealth.csv', '07-21_carbonhealth_and_braidhealth.csv', '07-28_carbonhealth_and_braidhealth.csv', '08-04_carbonhealth_and_braidhealth.csv', '08-11_carbonhealth_and_braidhealth.csv', '08-18_carbonhealth_and_braidhealth.csv', '08-25_carbonhealth_and_braidhealth.csv', '09-01_carbonhealth_and_braidhealth.csv', '09-08_carbonhealth_and_braidhealth.csv', '09-15_carbonhealth_and_braidhealth.csv', '09-22_carbonhealth_and_braidhealth.csv', '09-29_carbonhealth_and_braidhealth.csv', '10-06_carbonhealth_and_braidhealth.csv', '10-13_carbonhealth_and_braidhealth.csv', '10-20_carbonhealth_and_braidhealth.csv']\n"
     ]
    }
   ],
   "source": [
    "import pandas as pd\n",
    "import numpy as np\n",
    "import seaborn as sns\n",
    "import matplotlib.pyplot as plt\n",
    "\n",
    "import glob\n",
    "import os\n",
    "\n",
    "os.chdir('../data/') # Change the working directory to the data directory\n",
    "all_data_available = glob.glob('*.csv')\n",
    "print(all_data_available)"
   ]
  },
  {
   "cell_type": "code",
   "execution_count": 2,
   "metadata": {},
   "outputs": [
    {
     "name": "stdout",
     "output_type": "stream",
     "text": [
      "04-07_carbonhealth_and_braidhealth.csv 0.061224489795918366\n",
      "All data size: 735\n",
      "04-14_carbonhealth_and_braidhealth.csv 0.08365019011406843\n",
      "All data size: 998\n",
      "04-21_carbonhealth_and_braidhealth.csv 0.03074141048824593\n",
      "All data size: 2104\n",
      "04-28_carbonhealth_and_braidhealth.csv 0.011996572407883462\n",
      "All data size: 3271\n",
      "05-05_carbonhealth_and_braidhealth.csv 0.018738288569643973\n",
      "All data size: 4872\n",
      "05-12_carbonhealth_and_braidhealth.csv 0.03541315345699832\n",
      "All data size: 5465\n",
      "05-19_carbonhealth_and_braidhealth.csv 0.05353319057815846\n",
      "All data size: 6399\n",
      "05-26_carbonhealth_and_braidhealth.csv 0.04533333333333334\n",
      "All data size: 7149\n",
      "06-02_carbonhealth_and_braidhealth.csv 0.03134479271991911\n",
      "All data size: 8138\n",
      "06-09_carbonhealth_and_braidhealth.csv 0.010725552050473186\n",
      "All data size: 9723\n",
      "06-16_carbonhealth_and_braidhealth.csv 0.011756569847856155\n",
      "All data size: 11169\n",
      "06-23_carbonhealth_and_braidhealth.csv 0.020618556701030927\n",
      "All data size: 13594\n",
      "06-30_carbonhealth_and_braidhealth.csv 0.03353204172876304\n",
      "All data size: 16278\n",
      "07-07_carbonhealth_and_braidhealth.csv 0.04249617151607963\n",
      "All data size: 18890\n",
      "07-14_carbonhealth_and_braidhealth.csv 0.02233169129720854\n",
      "All data size: 21935\n",
      "07-21_carbonhealth_and_braidhealth.csv 0.023444976076555026\n",
      "All data size: 26115\n",
      "07-28_carbonhealth_and_braidhealth.csv 0.013940031562335612\n",
      "All data size: 29917\n",
      "08-04_carbonhealth_and_braidhealth.csv 0.014721345951629864\n",
      "All data size: 33721\n",
      "08-11_carbonhealth_and_braidhealth.csv 0.011245431543435479\n",
      "All data size: 37278\n",
      "08-18_carbonhealth_and_braidhealth.csv 0.011728395061728396\n",
      "All data size: 40518\n",
      "08-25_carbonhealth_and_braidhealth.csv 0.010537136982780776\n",
      "All data size: 44409\n",
      "09-01_carbonhealth_and_braidhealth.csv 0.010668973471741637\n",
      "All data size: 47877\n",
      "09-08_carbonhealth_and_braidhealth.csv 0.013844822613210269\n",
      "All data size: 51344\n",
      "09-15_carbonhealth_and_braidhealth.csv 0.009369287020109689\n",
      "All data size: 55720\n",
      "09-22_carbonhealth_and_braidhealth.csv 0.006235154394299287\n",
      "All data size: 62456\n",
      "09-29_carbonhealth_and_braidhealth.csv 0.005561440677966102\n",
      "All data size: 70008\n",
      "10-06_carbonhealth_and_braidhealth.csv 0.006808510638297872\n",
      "All data size: 78233\n",
      "10-13_carbonhealth_and_braidhealth.csv 0.007321681624940954\n",
      "All data size: 86701\n",
      "10-20_carbonhealth_and_braidhealth.csv 0.0034274746366876885\n",
      "All data size: 93995\n"
     ]
    }
   ],
   "source": [
    "# We load all data from the repo\n",
    "\n",
    "all_data = None #A workaround to declare the all_data variable for use later\n",
    "\n",
    "for file in all_data_available:     \n",
    "    df = pd.read_csv(\"../data/\" + file)    \n",
    "    print(file, df[\"covid19_test_results\"].value_counts()[\"Positive\"] / len(df[\"covid19_test_results\"]))\n",
    "    try:\n",
    "        df[\"rapid_flu_results\"] = df[\"rapid_flu_results\"].astype(\"object\") #Because in 2 files all values are null and because of that pandas changes the column type to float\n",
    "        if all_data is None:\n",
    "            all_data = df\n",
    "        else:\n",
    "            all_data = pd.merge(all_data, df, how=\"outer\")\n",
    "\n",
    "    except Exception as e:\n",
    "        print(file, \"could not be merged:\", e)\n",
    "        print(len(df), \"rows were left out\")\n",
    "\n",
    "    print(\"All data size:\", len(all_data))"
   ]
  },
  {
   "cell_type": "code",
   "execution_count": 3,
   "metadata": {},
   "outputs": [
    {
     "name": "stdout",
     "output_type": "stream",
     "text": [
      "<class 'pandas.core.frame.DataFrame'>\n",
      "Int64Index: 93995 entries, 0 to 93994\n",
      "Data columns (total 46 columns):\n",
      "batch_date                       93995 non-null object\n",
      "test_name                        93995 non-null object\n",
      "swab_type                        93995 non-null object\n",
      "covid19_test_results             93995 non-null object\n",
      "age                              93995 non-null int64\n",
      "high_risk_exposure_occupation    93826 non-null object\n",
      "high_risk_interactions           69168 non-null object\n",
      "diabetes                         93995 non-null object\n",
      "chd                              93995 non-null object\n",
      "htn                              93995 non-null object\n",
      "cancer                           93995 non-null object\n",
      "asthma                           93995 non-null object\n",
      "copd                             93995 non-null object\n",
      "autoimmune_dis                   93995 non-null object\n",
      "smoker                           93995 non-null object\n",
      "temperature                      47542 non-null float64\n",
      "pulse                            48279 non-null float64\n",
      "sys                              46523 non-null float64\n",
      "dia                              46523 non-null float64\n",
      "rr                               41448 non-null float64\n",
      "sats                             47535 non-null float64\n",
      "rapid_flu_results                254 non-null object\n",
      "rapid_strep_results              391 non-null object\n",
      "ctab                             35467 non-null object\n",
      "labored_respiration              48747 non-null object\n",
      "rhonchi                          23344 non-null object\n",
      "wheezes                          27488 non-null object\n",
      "days_since_symptom_onset         15865 non-null float64\n",
      "cough                            93980 non-null object\n",
      "cough_severity                   5711 non-null object\n",
      "fever                            71074 non-null object\n",
      "sob                              93789 non-null object\n",
      "sob_severity                     2836 non-null object\n",
      "diarrhea                         93808 non-null object\n",
      "fatigue                          93819 non-null object\n",
      "headache                         93812 non-null object\n",
      "loss_of_smell                    93805 non-null object\n",
      "loss_of_taste                    93805 non-null object\n",
      "runny_nose                       93808 non-null object\n",
      "muscle_sore                      93813 non-null object\n",
      "sore_throat                      93812 non-null object\n",
      "cxr_findings                     689 non-null object\n",
      "cxr_impression                   689 non-null object\n",
      "cxr_label                        689 non-null object\n",
      "cxr_link                         689 non-null object\n",
      "er_referral                      11169 non-null object\n",
      "dtypes: float64(7), int64(1), object(38)\n",
      "memory usage: 33.7+ MB\n"
     ]
    }
   ],
   "source": [
    "#All Data info\n",
    "all_data.info()"
   ]
  },
  {
   "cell_type": "markdown",
   "metadata": {},
   "source": [
    "### Removing columns with almost no info\n",
    "\n",
    "The first ones that come to mind to <u>remove</u> are the <u>rapid flu and rapid strep</u> results, since they are less than 1 percent of the data (both positive and negative). I will also <u>get rid of the the radiological findings (features with <i>cxr_</i> prefix)</u>, since they are too few as well.\n",
    "\n",
    "After that, I am somewhat suspicious of the <u>cough severity</u> and <u>shortness of breath (sob) severity</u>, since it is my intuition that the severity is dependant on whether they have cough or sob. I'll check that in the cell after dropping, and if that is the case, I will <u>join those columns so a value of 0 means no cough or sob following numbers from 1-N depending on the severity values</u>.\n",
    "\n",
    "I was hesitant to check the <u>er_referral</u> (whether the patient was referred to ER or not) but since the goal is to build an online predictor for the covid test, we don't need it and it <u>will be removed from the data</u>."
   ]
  },
  {
   "cell_type": "code",
   "execution_count": 4,
   "metadata": {},
   "outputs": [],
   "source": [
    "all_data.drop(columns=[\"batch_date\", \"test_name\", \"swab_type\", \"er_referral\"], inplace=True) #Dropping the columns that have nothing to do with the information about the disease itself"
   ]
  },
  {
   "cell_type": "code",
   "execution_count": 5,
   "metadata": {},
   "outputs": [],
   "source": [
    "columns_to_drop = [\"rapid_flu_results\", \"rapid_strep_results\", \"cxr_findings\", \"cxr_impression\", \"cxr_label\", \"cxr_link\"]\n",
    "all_data.drop(columns=columns_to_drop, inplace = True)"
   ]
  },
  {
   "cell_type": "markdown",
   "metadata": {},
   "source": [
    "<b>Cough and cough severity</b>"
   ]
  },
  {
   "cell_type": "code",
   "execution_count": 40,
   "metadata": {},
   "outputs": [
    {
     "name": "stdout",
     "output_type": "stream",
     "text": [
      "False    87403\n",
      "True      6411\n",
      "Name: cough, dtype: int64\n",
      "Not nan values: 6411\n",
      " \n",
      "All that have a cough and have cough severity\n",
      "Mild        4726\n",
      "Moderate    1588\n",
      "Severe        97\n",
      "Name: cough_severity, dtype: int64\n",
      "All that do not have a cough and have cough severity\n",
      "Series([], Name: cough_severity, dtype: int64)\n",
      "All that have cough as nan and have cough severity\n",
      "Series([], Name: cough_severity, dtype: int64)\n",
      "Number of rows with cough and no cough severity:  0\n"
     ]
    }
   ],
   "source": [
    "print(all_data[\"cough\"].value_counts())\n",
    "print(\"Not nan values:\", all_data[\"cough_severity\"].notna().sum())\n",
    "print(\" \")\n",
    "print(\"All that have a cough and have cough severity\")\n",
    "print(all_data[(all_data[\"cough\"].notna()) & (all_data[\"cough\"] == True)][\"cough_severity\"].value_counts())\n",
    "print(\"All that do not have a cough and have cough severity\")\n",
    "print(all_data[(all_data[\"cough\"].notna()) & (all_data[\"cough\"] == False)][\"cough_severity\"].value_counts()) #The cough value for this one is going to be changed to true\n",
    "print(\"All that have cough as nan and have cough severity\")\n",
    "print(all_data[(all_data[\"cough\"].isna())].loc[:,\"cough_severity\"].value_counts()) #This is empty so it is correct\n",
    "print(\"Number of rows with cough and no cough severity: \", len(all_data[(all_data[\"cough\"] == True) & (all_data[\"cough_severity\"].isna())])) #Since this are just 15 they are to be imputated with the most frequent type"
   ]
  },
  {
   "cell_type": "code",
   "execution_count": 7,
   "metadata": {},
   "outputs": [],
   "source": [
    "cough_false_severity_not_na = all_data.loc[(all_data[\"cough\"].notna()) & (all_data[\"cough\"] == False) & (all_data[\"cough_severity\"].notna())].index\n",
    "all_data.loc[cough_false_severity_not_na, \"cough\"] = True\n",
    "\n",
    "all_data.loc[(all_data[\"cough\"] == True) & (all_data[\"cough_severity\"].isna()), \"cough_severity\"] = all_data[\"cough_severity\"].mode()[0] #Since it returns a series, the 0 subscript is to retrieve the value"
   ]
  },
  {
   "cell_type": "code",
   "execution_count": 49,
   "metadata": {},
   "outputs": [],
   "source": [
    "all_data.loc[(all_data[\"cough\"] == False) & (all_data[\"cough_severity\"].isna()), \"cough_severity\"] = \"None\""
   ]
  },
  {
   "cell_type": "markdown",
   "metadata": {},
   "source": [
    "<b>SOB (shortedness of breath) and SOB severity</b>"
   ]
  },
  {
   "cell_type": "code",
   "execution_count": 8,
   "metadata": {},
   "outputs": [
    {
     "name": "stdout",
     "output_type": "stream",
     "text": [
      "False    90947\n",
      "True      2842\n",
      "Name: sob, dtype: int64\n",
      "Not nan values: 2836\n",
      " \n",
      "All that have sob and have sob severity\n",
      "Mild        1274\n",
      "Moderate     959\n",
      "Severe       117\n",
      "Name: sob_severity, dtype: int64\n",
      "All that do not have sob and have sob severity\n",
      "Mild        330\n",
      "Moderate    147\n",
      "Severe        9\n",
      "Name: sob_severity, dtype: int64\n",
      "All that have sob as nan and have sob severity\n",
      "Series([], Name: sob_severity, dtype: int64)\n",
      "Number of rows with sob and no sob severity:  492\n"
     ]
    }
   ],
   "source": [
    "print(all_data[\"sob\"].value_counts())\n",
    "print(\"Not nan values:\", all_data[\"sob_severity\"].notna().sum())\n",
    "print(\" \")\n",
    "print(\"All that have sob and have sob severity\")\n",
    "print(all_data[(all_data[\"sob\"].notna()) & (all_data[\"sob\"] == True)][\"sob_severity\"].value_counts())\n",
    "print(\"All that do not have sob and have sob severity\")\n",
    "print(all_data[(all_data[\"sob\"].notna()) & (all_data[\"sob\"] == False)][\"sob_severity\"].value_counts()) #The cough value for this one is going to be changed to true\n",
    "print(\"All that have sob as nan and have sob severity\")\n",
    "print(all_data[(all_data[\"sob\"].isna())].loc[:,\"sob_severity\"].value_counts()) #This is empty so it is correct\n",
    "print(\"Number of rows with sob and no sob severity: \", len(all_data[(all_data[\"sob\"] == True) & (all_data[\"sob_severity\"].isna())])) #Since this are just 15 they are to be imputated with the most frequent type"
   ]
  },
  {
   "cell_type": "code",
   "execution_count": 9,
   "metadata": {},
   "outputs": [],
   "source": [
    "sob_false_severity_not_na = all_data.loc[(all_data[\"sob\"].notna()) & (all_data[\"sob\"] == False) & (all_data[\"sob_severity\"].notna())].index\n",
    "all_data.loc[sob_false_severity_not_na, \"sob\"] = True\n",
    "\n",
    "all_data.loc[(all_data[\"sob\"] == True) & (all_data[\"sob_severity\"].isna()), \"sob_severity\"] = all_data[\"sob_severity\"].mode()[0] #Since it returns a series, the 0 subscript is to retrieve the value"
   ]
  },
  {
   "cell_type": "code",
   "execution_count": 50,
   "metadata": {},
   "outputs": [],
   "source": [
    "all_data.loc[(all_data[\"sob\"] == False) & (all_data[\"sob_severity\"].isna()), \"sob_severity\"] = \"None\""
   ]
  },
  {
   "cell_type": "markdown",
   "metadata": {},
   "source": [
    "## Exploring positive and negative values\n",
    "\n",
    "In this section I will see if there is a value that is only found in negative and/or positive examples. To do that, I will separate the data into the positive and negative datasets and check the information regarding null values and unique values (for this last part I will substract the number of unique values in all_data from the number of unique values in each class).\n",
    "\n",
    "Let's start with the positives first:"
   ]
  },
  {
   "cell_type": "code",
   "execution_count": 10,
   "metadata": {},
   "outputs": [
    {
     "name": "stdout",
     "output_type": "stream",
     "text": [
      "<class 'pandas.core.frame.DataFrame'>\n",
      "Int64Index: 1313 entries, 21 to 93813\n",
      "Data columns (total 36 columns):\n",
      "covid19_test_results             1313 non-null object\n",
      "age                              1313 non-null int64\n",
      "high_risk_exposure_occupation    1308 non-null object\n",
      "high_risk_interactions           1078 non-null object\n",
      "diabetes                         1313 non-null object\n",
      "chd                              1313 non-null object\n",
      "htn                              1313 non-null object\n",
      "cancer                           1313 non-null object\n",
      "asthma                           1313 non-null object\n",
      "copd                             1313 non-null object\n",
      "autoimmune_dis                   1313 non-null object\n",
      "smoker                           1313 non-null object\n",
      "temperature                      1071 non-null float64\n",
      "pulse                            1082 non-null float64\n",
      "sys                              1064 non-null float64\n",
      "dia                              1064 non-null float64\n",
      "rr                               968 non-null float64\n",
      "sats                             1076 non-null float64\n",
      "ctab                             885 non-null object\n",
      "labored_respiration              1077 non-null object\n",
      "rhonchi                          591 non-null object\n",
      "wheezes                          690 non-null object\n",
      "days_since_symptom_onset         670 non-null float64\n",
      "cough                            1313 non-null object\n",
      "cough_severity                   427 non-null object\n",
      "fever                            1106 non-null object\n",
      "sob                              1308 non-null object\n",
      "sob_severity                     120 non-null object\n",
      "diarrhea                         1308 non-null object\n",
      "fatigue                          1308 non-null object\n",
      "headache                         1308 non-null object\n",
      "loss_of_smell                    1308 non-null object\n",
      "loss_of_taste                    1308 non-null object\n",
      "runny_nose                       1308 non-null object\n",
      "muscle_sore                      1308 non-null object\n",
      "sore_throat                      1308 non-null object\n",
      "dtypes: float64(7), int64(1), object(28)\n",
      "memory usage: 379.5+ KB\n"
     ]
    },
    {
     "data": {
      "text/plain": [
       "covid19_test_results              1\n",
       "age                              13\n",
       "high_risk_exposure_occupation     0\n",
       "high_risk_interactions            0\n",
       "diabetes                          0\n",
       "chd                               0\n",
       "htn                               0\n",
       "cancer                            0\n",
       "asthma                            0\n",
       "copd                              1\n",
       "autoimmune_dis                    0\n",
       "smoker                            0\n",
       "temperature                      36\n",
       "pulse                            35\n",
       "sys                              24\n",
       "dia                              32\n",
       "rr                               12\n",
       "sats                             11\n",
       "ctab                              0\n",
       "labored_respiration               0\n",
       "rhonchi                           0\n",
       "wheezes                           0\n",
       "days_since_symptom_onset          7\n",
       "cough                             0\n",
       "cough_severity                    0\n",
       "fever                             0\n",
       "sob                               0\n",
       "sob_severity                      1\n",
       "diarrhea                          0\n",
       "fatigue                           0\n",
       "headache                          0\n",
       "loss_of_smell                     0\n",
       "loss_of_taste                     0\n",
       "runny_nose                        0\n",
       "muscle_sore                       0\n",
       "sore_throat                       0\n",
       "dtype: int64"
      ]
     },
     "execution_count": 10,
     "metadata": {},
     "output_type": "execute_result"
    }
   ],
   "source": [
    "#Positive data info\n",
    "positive_data = all_data[all_data[\"covid19_test_results\"] == \"Positive\"]\n",
    "positive_data.info()\n",
    "all_data.nunique() - positive_data.nunique()"
   ]
  },
  {
   "cell_type": "markdown",
   "metadata": {},
   "source": [
    "Here we can see there are some features that have less values in the positive dataste than in all the data (not counting the continuous values for the vitals). These features are COPD (Chronic Obstructive Pulmonary Disease)and sob severity. Let's explore this values"
   ]
  },
  {
   "cell_type": "code",
   "execution_count": 11,
   "metadata": {},
   "outputs": [
    {
     "name": "stdout",
     "output_type": "stream",
     "text": [
      "all_data:\n",
      "False    93943\n",
      "True        52\n",
      "Name: copd, dtype: int64\n",
      "Mild        2096\n",
      "Moderate    1106\n",
      "Severe       126\n",
      "Name: sob_severity, dtype: int64\n",
      "positive_data:\n",
      "False    1313\n",
      "Name: copd, dtype: int64\n",
      "Mild        84\n",
      "Moderate    36\n",
      "Name: sob_severity, dtype: int64\n"
     ]
    }
   ],
   "source": [
    "print(\"all_data:\")\n",
    "print(all_data[\"copd\"].value_counts())\n",
    "print(all_data[\"sob_severity\"].value_counts())\n",
    "print(\"positive_data:\")\n",
    "print(positive_data[\"copd\"].value_counts())\n",
    "print(positive_data[\"sob_severity\"].value_counts())"
   ]
  },
  {
   "cell_type": "markdown",
   "metadata": {},
   "source": [
    "It seems that having a <u>copd</u> would be a good indicator of NOT having Covid19, which doesn't sound right. Given that there are only 52 cases with copd in the whole dataset, it sounds like we just simply don't have enough data on positive cases to determine whether this would be a useful feature or not (we prefer a lot of false positives, so a variable whose prescence indicates a negative result is not to be desired). Also if we see what is the proportion of True and False (52/93943) cases in all data, the similar proportion for positive data would be not even one case (0.726 patients would need to exist with copd and positive result) so it is very likely we just dont have positive patients with copd because the sample isn't big enough, making the feature irrelevant. Because of that I have decided to <u>remove the feature from the dataset</u>. <br>\n",
    "<i>Note: I might leave it for just one experiment to see how much it affects the performance of the classifier. I guess it will actually separate nicely</i>\n",
    "<br>\n",
    "<br>\n",
    "As for the <u>sob severity</u>, it seems very similar to the previous result: having a severe condition implies that there is a higher chance of being negative, which seems counter-intuitive from what we know about Covid19. Furthermore, looking at the numbers we can see that since in the whole dataset there are only 126 people with a severe shortness of breath I would bet that the lack of severity in positive patients is just due to not having enough data. In this case, however, I would be against dismissing the whole feature since I was planning to merge it with the indicator for sob. Since the patients with severe shortedness of breath represent just about 0.1% of the dataset, the best approach might be to just <u>dismiss all of the patients with severe shortedness of breath</u>. <b>I am still not sure this is the best course of action</b>."
   ]
  },
  {
   "cell_type": "code",
   "execution_count": 12,
   "metadata": {},
   "outputs": [],
   "source": [
    "#dropping the copd feature\n",
    "all_data.drop(columns=\"copd\", inplace=True)\n",
    "\n",
    "sob_severe_indexes = all_data[all_data[\"sob_severity\"] == \"Severe\"].index\n",
    "all_data.drop(index=sob_severe_indexes, inplace=True)"
   ]
  },
  {
   "cell_type": "markdown",
   "metadata": {},
   "source": [
    "Let's try the same analysis with the negatives:"
   ]
  },
  {
   "cell_type": "code",
   "execution_count": 13,
   "metadata": {},
   "outputs": [
    {
     "name": "stdout",
     "output_type": "stream",
     "text": [
      "<class 'pandas.core.frame.DataFrame'>\n",
      "Int64Index: 92556 entries, 0 to 93994\n",
      "Data columns (total 35 columns):\n",
      "covid19_test_results             92556 non-null object\n",
      "age                              92556 non-null int64\n",
      "high_risk_exposure_occupation    92392 non-null object\n",
      "high_risk_interactions           67976 non-null object\n",
      "diabetes                         92556 non-null object\n",
      "chd                              92556 non-null object\n",
      "htn                              92556 non-null object\n",
      "cancer                           92556 non-null object\n",
      "asthma                           92556 non-null object\n",
      "autoimmune_dis                   92556 non-null object\n",
      "smoker                           92556 non-null object\n",
      "temperature                      46375 non-null float64\n",
      "pulse                            47098 non-null float64\n",
      "sys                              45367 non-null float64\n",
      "dia                              45367 non-null float64\n",
      "rr                               40402 non-null float64\n",
      "sats                             46362 non-null float64\n",
      "ctab                             34496 non-null object\n",
      "labored_respiration              47560 non-null object\n",
      "rhonchi                          22683 non-null object\n",
      "wheezes                          26726 non-null object\n",
      "days_since_symptom_onset         15077 non-null float64\n",
      "cough                            92541 non-null object\n",
      "cough_severity                   5988 non-null object\n",
      "fever                            69855 non-null object\n",
      "sob                              92355 non-null object\n",
      "sob_severity                     3082 non-null object\n",
      "diarrhea                         92374 non-null object\n",
      "fatigue                          92385 non-null object\n",
      "headache                         92378 non-null object\n",
      "loss_of_smell                    92371 non-null object\n",
      "loss_of_taste                    92371 non-null object\n",
      "runny_nose                       92374 non-null object\n",
      "muscle_sore                      92379 non-null object\n",
      "sore_throat                      92378 non-null object\n",
      "dtypes: float64(7), int64(1), object(27)\n",
      "memory usage: 25.4+ MB\n"
     ]
    },
    {
     "data": {
      "text/plain": [
       "covid19_test_results             1\n",
       "age                              0\n",
       "high_risk_exposure_occupation    0\n",
       "high_risk_interactions           0\n",
       "diabetes                         0\n",
       "chd                              0\n",
       "htn                              0\n",
       "cancer                           0\n",
       "asthma                           0\n",
       "autoimmune_dis                   0\n",
       "smoker                           0\n",
       "temperature                      1\n",
       "pulse                            0\n",
       "sys                              0\n",
       "dia                              0\n",
       "rr                               0\n",
       "sats                             0\n",
       "ctab                             0\n",
       "labored_respiration              0\n",
       "rhonchi                          0\n",
       "wheezes                          0\n",
       "days_since_symptom_onset         0\n",
       "cough                            0\n",
       "cough_severity                   0\n",
       "fever                            0\n",
       "sob                              0\n",
       "sob_severity                     0\n",
       "diarrhea                         0\n",
       "fatigue                          0\n",
       "headache                         0\n",
       "loss_of_smell                    0\n",
       "loss_of_taste                    0\n",
       "runny_nose                       0\n",
       "muscle_sore                      0\n",
       "sore_throat                      0\n",
       "dtype: int64"
      ]
     },
     "execution_count": 13,
     "metadata": {},
     "output_type": "execute_result"
    }
   ],
   "source": [
    "#Negative data info\n",
    "negative_data = all_data[all_data[\"covid19_test_results\"] == \"Negative\"]\n",
    "negative_data.info()\n",
    "all_data.nunique() - negative_data.nunique()"
   ]
  },
  {
   "cell_type": "markdown",
   "metadata": {},
   "source": [
    "As we can see, there is only one different value in the negatives that does not exist in the positives, and that corresponds to a single value in temperature, which is a continuous variable that we will explore later. So, there will be no changes further in the data due to the negative tests."
   ]
  },
  {
   "cell_type": "markdown",
   "metadata": {},
   "source": [
    "The next part will be plotting the continuous features to see if there is any hole that could be useful for prediction."
   ]
  },
  {
   "cell_type": "code",
   "execution_count": 14,
   "metadata": {},
   "outputs": [
    {
     "data": {
      "text/html": [
       "<div>\n",
       "<style scoped>\n",
       "    .dataframe tbody tr th:only-of-type {\n",
       "        vertical-align: middle;\n",
       "    }\n",
       "\n",
       "    .dataframe tbody tr th {\n",
       "        vertical-align: top;\n",
       "    }\n",
       "\n",
       "    .dataframe thead th {\n",
       "        text-align: right;\n",
       "    }\n",
       "</style>\n",
       "<table border=\"1\" class=\"dataframe\">\n",
       "  <thead>\n",
       "    <tr style=\"text-align: right;\">\n",
       "      <th></th>\n",
       "      <th>age</th>\n",
       "      <th>temperature</th>\n",
       "      <th>pulse</th>\n",
       "      <th>sys</th>\n",
       "      <th>dia</th>\n",
       "      <th>rr</th>\n",
       "      <th>sats</th>\n",
       "      <th>days_since_symptom_onset</th>\n",
       "    </tr>\n",
       "  </thead>\n",
       "  <tbody>\n",
       "    <tr>\n",
       "      <td>count</td>\n",
       "      <td>93869.000000</td>\n",
       "      <td>47446.000000</td>\n",
       "      <td>48180.000000</td>\n",
       "      <td>46431.000000</td>\n",
       "      <td>46431.000000</td>\n",
       "      <td>41370.000000</td>\n",
       "      <td>47438.000000</td>\n",
       "      <td>15747.000000</td>\n",
       "    </tr>\n",
       "    <tr>\n",
       "      <td>mean</td>\n",
       "      <td>39.179026</td>\n",
       "      <td>36.794741</td>\n",
       "      <td>76.913885</td>\n",
       "      <td>123.152657</td>\n",
       "      <td>78.298012</td>\n",
       "      <td>14.709862</td>\n",
       "      <td>98.238564</td>\n",
       "      <td>7.056836</td>\n",
       "    </tr>\n",
       "    <tr>\n",
       "      <td>std</td>\n",
       "      <td>15.038488</td>\n",
       "      <td>0.289177</td>\n",
       "      <td>13.228319</td>\n",
       "      <td>16.115788</td>\n",
       "      <td>9.460495</td>\n",
       "      <td>1.971138</td>\n",
       "      <td>1.423834</td>\n",
       "      <td>17.263409</td>\n",
       "    </tr>\n",
       "    <tr>\n",
       "      <td>min</td>\n",
       "      <td>-3.000000</td>\n",
       "      <td>33.500000</td>\n",
       "      <td>35.000000</td>\n",
       "      <td>50.000000</td>\n",
       "      <td>15.000000</td>\n",
       "      <td>0.000000</td>\n",
       "      <td>55.000000</td>\n",
       "      <td>1.000000</td>\n",
       "    </tr>\n",
       "    <tr>\n",
       "      <td>25%</td>\n",
       "      <td>28.000000</td>\n",
       "      <td>36.650000</td>\n",
       "      <td>68.000000</td>\n",
       "      <td>112.000000</td>\n",
       "      <td>72.000000</td>\n",
       "      <td>13.000000</td>\n",
       "      <td>97.000000</td>\n",
       "      <td>2.000000</td>\n",
       "    </tr>\n",
       "    <tr>\n",
       "      <td>50%</td>\n",
       "      <td>37.000000</td>\n",
       "      <td>36.800000</td>\n",
       "      <td>76.000000</td>\n",
       "      <td>121.000000</td>\n",
       "      <td>78.000000</td>\n",
       "      <td>15.000000</td>\n",
       "      <td>98.000000</td>\n",
       "      <td>3.000000</td>\n",
       "    </tr>\n",
       "    <tr>\n",
       "      <td>75%</td>\n",
       "      <td>50.000000</td>\n",
       "      <td>36.950000</td>\n",
       "      <td>85.000000</td>\n",
       "      <td>132.000000</td>\n",
       "      <td>84.000000</td>\n",
       "      <td>16.000000</td>\n",
       "      <td>99.000000</td>\n",
       "      <td>5.000000</td>\n",
       "    </tr>\n",
       "    <tr>\n",
       "      <td>max</td>\n",
       "      <td>91.000000</td>\n",
       "      <td>39.600000</td>\n",
       "      <td>160.000000</td>\n",
       "      <td>235.000000</td>\n",
       "      <td>150.000000</td>\n",
       "      <td>40.000000</td>\n",
       "      <td>100.000000</td>\n",
       "      <td>300.000000</td>\n",
       "    </tr>\n",
       "  </tbody>\n",
       "</table>\n",
       "</div>"
      ],
      "text/plain": [
       "                age   temperature         pulse           sys           dia  \\\n",
       "count  93869.000000  47446.000000  48180.000000  46431.000000  46431.000000   \n",
       "mean      39.179026     36.794741     76.913885    123.152657     78.298012   \n",
       "std       15.038488      0.289177     13.228319     16.115788      9.460495   \n",
       "min       -3.000000     33.500000     35.000000     50.000000     15.000000   \n",
       "25%       28.000000     36.650000     68.000000    112.000000     72.000000   \n",
       "50%       37.000000     36.800000     76.000000    121.000000     78.000000   \n",
       "75%       50.000000     36.950000     85.000000    132.000000     84.000000   \n",
       "max       91.000000     39.600000    160.000000    235.000000    150.000000   \n",
       "\n",
       "                 rr          sats  days_since_symptom_onset  \n",
       "count  41370.000000  47438.000000              15747.000000  \n",
       "mean      14.709862     98.238564                  7.056836  \n",
       "std        1.971138      1.423834                 17.263409  \n",
       "min        0.000000     55.000000                  1.000000  \n",
       "25%       13.000000     97.000000                  2.000000  \n",
       "50%       15.000000     98.000000                  3.000000  \n",
       "75%       16.000000     99.000000                  5.000000  \n",
       "max       40.000000    100.000000                300.000000  "
      ]
     },
     "execution_count": 14,
     "metadata": {},
     "output_type": "execute_result"
    }
   ],
   "source": [
    "all_data.describe() #After running the line we can see that initially we only have 8 continuous variables"
   ]
  },
  {
   "cell_type": "code",
   "execution_count": 15,
   "metadata": {},
   "outputs": [
    {
     "data": {
      "image/png": "[encoded data removed]",
      "text/plain": [
       "<Figure size 1080x720 with 6 Axes>"
      ]
     },
     "metadata": {
      "needs_background": "light"
     },
     "output_type": "display_data"
    }
   ],
   "source": [
    "def plot_vitals():\n",
    "    vitals = [\"temperature\", \"pulse\", \"sys\", \"dia\", \"rr\", \"sats\"]\n",
    "    # 'f' is the figure (the container) where everything will be ploted. \n",
    "    # 'axes' is the array of subplots (called axes) where each subplot will be plotted (in this case an array of 3 rows and 2 columns)\n",
    "    # Note: you cann add axes to figures to make them subplots\n",
    "    f, axes = plt.subplots(3,2, figsize=(15,10)) \n",
    "    i = 0\n",
    "    j = 0\n",
    "    for feature in vitals:   \n",
    "        sns.stripplot(data=all_data, x=feature, y=\"covid19_test_results\", ax=axes[i % 3][j % 2])    #this returns an 'ax' object, which we are passing\n",
    "        axes[i % 3][j % 2].set_ylabel('')\n",
    "        j+=1\n",
    "        if j%2 == 0:\n",
    "            i+=1\n",
    "\n",
    "    f.tight_layout()\n",
    "\n",
    "plot_vitals()"
   ]
  },
  {
   "cell_type": "markdown",
   "metadata": {},
   "source": [
    "We can observe that for almost every continuous feature there are some data points that might be considered outliers and most of them are occurring within the negative result dataset. I will establish some boundaries depending on the feature (trying to include as many positive results as possible) for each feature and then I will count how many of points exist outside those boundaries. If there are enough significant points I will replace them with the minimum value. If the number is too low then I will just drop them<i>Note: I might use nearest k-nearest-neighbor imputation as a side experiment to see how it improves the performance of the algorithm.</i><br>\n"
   ]
  },
  {
   "cell_type": "markdown",
   "metadata": {},
   "source": [
    "| Feature | Lower bound | Upper bound |\n",
    "|:-|:-:|:-:|\n",
    "| Temperature | 34.5 | 39 |\n",
    "| Pulse | <b>N/A</b> | 150 |\n",
    "| Sys | 62.5 | 225 |\n",
    "| Dia | 30 | 140 |\n",
    "| RR | 7.5 | 35 |\n",
    "| Sats | 80 | <b>N/A</b>|"
   ]
  },
  {
   "cell_type": "code",
   "execution_count": 16,
   "metadata": {},
   "outputs": [
    {
     "name": "stdout",
     "output_type": "stream",
     "text": [
      "Temperature below 34.5°:\n",
      "Negative    5\n",
      "Name: covid19_test_results, dtype: int64\n",
      "Temperature above 39°:\n",
      "Negative    7\n",
      "Positive    1\n",
      "Name: covid19_test_results, dtype: int64\n",
      "Pulse above 150:\n",
      "Negative    3\n",
      "Name: covid19_test_results, dtype: int64\n",
      "Systolic below 75:\n",
      "Negative    4\n",
      "Name: covid19_test_results, dtype: int64\n",
      "Systolic above 225:\n",
      "Negative    3\n",
      "Name: covid19_test_results, dtype: int64\n",
      "Diastolic below 30:\n",
      "Negative    2\n",
      "Name: covid19_test_results, dtype: int64\n",
      "Diastolyc above 140:\n",
      "Negative    4\n",
      "Name: covid19_test_results, dtype: int64\n",
      "Respiratory rate below 7.5:\n",
      "Negative    4\n",
      "Name: covid19_test_results, dtype: int64\n",
      "Respiratory rate above 35:\n",
      "Negative    3\n",
      "Name: covid19_test_results, dtype: int64\n",
      "Saturation level below 80:\n",
      "Negative    4\n",
      "Name: covid19_test_results, dtype: int64\n"
     ]
    }
   ],
   "source": [
    "print(\"Temperature below 34.5°:\")\n",
    "low_temp = all_data[all_data[\"temperature\"]<34.5]\n",
    "print(low_temp.covid19_test_results.value_counts())\n",
    "print(\"Temperature above 39°:\")\n",
    "high_temp = all_data[all_data[\"temperature\"]>39]\n",
    "print(all_data[all_data[\"temperature\"]>39].covid19_test_results.value_counts())\n",
    "print(\"Pulse above 150:\")\n",
    "hi_pulse = all_data[all_data[\"pulse\"]>150]\n",
    "print(all_data[all_data[\"pulse\"]>150].covid19_test_results.value_counts())\n",
    "\n",
    "print(\"Systolic below 75:\")\n",
    "low_sys = all_data[all_data[\"sys\"]<75]\n",
    "print(all_data[all_data[\"sys\"]<75].covid19_test_results.value_counts())\n",
    "print(\"Systolic above 225:\")\n",
    "high_sys = all_data[all_data[\"sys\"]>225]\n",
    "print(all_data[all_data[\"sys\"]>225].covid19_test_results.value_counts())\n",
    "print(\"Diastolic below 30:\")\n",
    "low_dia = all_data[all_data[\"dia\"]<30]\n",
    "print(all_data[all_data[\"dia\"]<30].covid19_test_results.value_counts())\n",
    "print(\"Diastolyc above 140:\")\n",
    "high_dia = all_data[all_data[\"dia\"]>140]\n",
    "print(all_data[all_data[\"dia\"]>140].covid19_test_results.value_counts())\n",
    "print(\"Respiratory rate below 7.5:\")\n",
    "low_rr = all_data[all_data[\"rr\"]<7.5]\n",
    "print(all_data[all_data[\"rr\"]<7.5].covid19_test_results.value_counts())\n",
    "print(\"Respiratory rate above 35:\")\n",
    "high_rr = all_data[all_data[\"rr\"]>35]\n",
    "print(all_data[all_data[\"rr\"]>35].covid19_test_results.value_counts())\n",
    "print(\"Saturation level below 80:\")\n",
    "low_sats = all_data[all_data[\"sats\"]<80]\n",
    "print(all_data[all_data[\"sats\"]<80].covid19_test_results.value_counts())"
   ]
  },
  {
   "cell_type": "markdown",
   "metadata": {},
   "source": [
    "We can see that all of the features have a very low number of outliers (given by the thresholds I was using) so I will choose to remove all of the defective points (except for temperature above 39° becaue on second thought, values above 39° are possible values). Also I would like to note that the above cell helped me notice that indeed a point in the graph is just a point in real data, so I have decided I will also trim the positive datapoints in a separate cutoff from the negatives"
   ]
  },
  {
   "cell_type": "code",
   "execution_count": 17,
   "metadata": {},
   "outputs": [],
   "source": [
    "def calculate_union(df_list):\n",
    "    union = df_list[0].index\n",
    "    for df in df_list:\n",
    "        union = np.union1d(union, df.index)\n",
    "        \n",
    "    return union\n",
    "\n",
    "def calculate_intersection(df_list):\n",
    "    intersection = df_list[0].index\n",
    "    for df in df_list:\n",
    "        intersection = np.intersect1d(intersection, df.index)\n",
    "    return intersection\n"
   ]
  },
  {
   "cell_type": "code",
   "execution_count": 18,
   "metadata": {},
   "outputs": [],
   "source": [
    "df_list =[low_temp, hi_pulse, low_sys, high_sys, low_dia, high_dia, low_rr, high_rr, low_sats]\n",
    "union = calculate_union(df_list)\n",
    "intersection = calculate_intersection(df_list)\n",
    "\n",
    "all_data.drop(index=union, inplace=True)"
   ]
  },
  {
   "cell_type": "code",
   "execution_count": 19,
   "metadata": {},
   "outputs": [],
   "source": [
    "df_list = [positive_data[positive_data[\"pulse\"] >= 140], positive_data[positive_data[\"sys\"] >= 190], positive_data[(positive_data[\"dia\"] <= 50) | (positive_data[\"dia\"] >= 110)]]\n",
    "union = calculate_union(df_list)\n",
    "instersection = calculate_intersection(df_list)\n",
    "\n",
    "all_data.drop(index=union, inplace=True)"
   ]
  },
  {
   "cell_type": "markdown",
   "metadata": {},
   "source": [
    "### After cleaning continuous values"
   ]
  },
  {
   "cell_type": "code",
   "execution_count": 20,
   "metadata": {},
   "outputs": [
    {
     "data": {
      "image/png": "[encoded data removed]",
      "text/plain": [
       "<Figure size 1080x720 with 6 Axes>"
      ]
     },
     "metadata": {
      "needs_background": "light"
     },
     "output_type": "display_data"
    }
   ],
   "source": [
    "plot_vitals()"
   ]
  },
  {
   "cell_type": "markdown",
   "metadata": {},
   "source": [
    "As the plot shows, there are still some outliers remaining. However the graphs are a bit tighter now, which will help us to infer where the bulk mass of the data is"
   ]
  },
  {
   "cell_type": "markdown",
   "metadata": {},
   "source": [
    "## Data imputation and separation in different datasets\n",
    "\n",
    "In this part, having removed all columns that will not be used whether it is because of lack of information or because they do not provide any useful information per se, I will impute missing data for the values that have a relatively small missing portion of the data. I use the most frequent value in this type of column first. I might experiment with Imputation by most frequent neighbor\n",
    "\n",
    "Next, for the others I will explore the option of separating them into different datasets or imputing the data."
   ]
  },
  {
   "cell_type": "code",
   "execution_count": 21,
   "metadata": {},
   "outputs": [
    {
     "name": "stdout",
     "output_type": "stream",
     "text": [
      "<class 'pandas.core.frame.DataFrame'>\n",
      "Int64Index: 93829 entries, 0 to 93994\n",
      "Data columns (total 35 columns):\n",
      "covid19_test_results             93829 non-null object\n",
      "age                              93829 non-null int64\n",
      "high_risk_exposure_occupation    93660 non-null object\n",
      "high_risk_interactions           69021 non-null object\n",
      "diabetes                         93829 non-null object\n",
      "chd                              93829 non-null object\n",
      "htn                              93829 non-null object\n",
      "cancer                           93829 non-null object\n",
      "asthma                           93829 non-null object\n",
      "autoimmune_dis                   93829 non-null object\n",
      "smoker                           93829 non-null object\n",
      "temperature                      47408 non-null float64\n",
      "pulse                            48143 non-null float64\n",
      "sys                              46395 non-null float64\n",
      "dia                              46395 non-null float64\n",
      "rr                               41339 non-null float64\n",
      "sats                             47404 non-null float64\n",
      "ctab                             35351 non-null object\n",
      "labored_respiration              48602 non-null object\n",
      "rhonchi                          23255 non-null object\n",
      "wheezes                          27391 non-null object\n",
      "days_since_symptom_onset         15741 non-null float64\n",
      "cough                            93814 non-null object\n",
      "cough_severity                   6411 non-null object\n",
      "fever                            70922 non-null object\n",
      "sob                              93623 non-null object\n",
      "sob_severity                     3201 non-null object\n",
      "diarrhea                         93642 non-null object\n",
      "fatigue                          93653 non-null object\n",
      "headache                         93646 non-null object\n",
      "loss_of_smell                    93639 non-null object\n",
      "loss_of_taste                    93639 non-null object\n",
      "runny_nose                       93642 non-null object\n",
      "muscle_sore                      93647 non-null object\n",
      "sore_throat                      93646 non-null object\n",
      "dtypes: float64(7), int64(1), object(27)\n",
      "memory usage: 28.3+ MB\n"
     ]
    },
    {
     "data": {
      "text/plain": [
       "covid19_test_results               2\n",
       "age                               95\n",
       "high_risk_exposure_occupation      2\n",
       "high_risk_interactions             2\n",
       "diabetes                           2\n",
       "chd                                2\n",
       "htn                                2\n",
       "cancer                             2\n",
       "asthma                             2\n",
       "autoimmune_dis                     2\n",
       "smoker                             2\n",
       "temperature                       82\n",
       "pulse                            110\n",
       "sys                               98\n",
       "dia                               88\n",
       "rr                                23\n",
       "sats                              18\n",
       "ctab                               2\n",
       "labored_respiration                2\n",
       "rhonchi                            2\n",
       "wheezes                            2\n",
       "days_since_symptom_onset          20\n",
       "cough                              2\n",
       "cough_severity                     3\n",
       "fever                              2\n",
       "sob                                2\n",
       "sob_severity                       2\n",
       "diarrhea                           2\n",
       "fatigue                            2\n",
       "headache                           2\n",
       "loss_of_smell                      2\n",
       "loss_of_taste                      2\n",
       "runny_nose                         2\n",
       "muscle_sore                        2\n",
       "sore_throat                        2\n",
       "dtype: int64"
      ]
     },
     "execution_count": 21,
     "metadata": {},
     "output_type": "execute_result"
    }
   ],
   "source": [
    "#Lets see how many unique values each column has\n",
    "#This will take the nans as an additional value. That's why .nunique is preferred\n",
    "#for column in all_data.columns:\n",
    "    #print(column, len(all_data[column].unique()), sep=\": \") \n",
    "\n",
    "all_data.info()\n",
    "all_data.nunique(axis=0)"
   ]
  },
  {
   "cell_type": "markdown",
   "metadata": {},
   "source": [
    "There are several features that need imputation (the ones with null values in the first table). However, since the dataset is going to be split in 4 it is better to start imputing the features belonging to the set with the highest number of datapoints, starting from the top to the bottom. When I reach the vitals ('Temperature', 'Pulse', etc.) I will proceed to split the dataset and then do the corresponding imputation."
   ]
  },
  {
   "cell_type": "markdown",
   "metadata": {},
   "source": [
    "<u>Age:</u> I just found in the data dictionary that the age has been added using noise, so Ill replace ages less than 0 with 0. I choose the mean since it shouldnt affect the distribution. Also I am thinking it might be a good idea to not really specify an age but make it into a group (like 0-20, 20-40, 40-60, 60-80)."
   ]
  },
  {
   "cell_type": "code",
   "execution_count": 22,
   "metadata": {},
   "outputs": [
    {
     "data": {
      "text/plain": [
       "count    93829.000000\n",
       "mean        39.178985\n",
       "std         15.035089\n",
       "min         -3.000000\n",
       "25%         28.000000\n",
       "50%         37.000000\n",
       "75%         50.000000\n",
       "max         91.000000\n",
       "Name: age, dtype: float64"
      ]
     },
     "execution_count": 22,
     "metadata": {},
     "output_type": "execute_result"
    }
   ],
   "source": [
    "all_data.age.describe() #First we need to find out how the data is distributed with regarding to age (the max value and middle value)"
   ]
  },
  {
   "cell_type": "code",
   "execution_count": 23,
   "metadata": {},
   "outputs": [],
   "source": [
    "# We separate the patients in age groups, defining the bounds as the percentiles of the distribution\n",
    "# Also the encoding is done directly\n",
    "all_data.loc[all_data.age <= 28, \"age\"] = 1\n",
    "all_data.loc[(all_data.age > 28) & (all_data.age <= 37), \"age\"] = 2\n",
    "all_data.loc[(all_data.age > 37) & (all_data.age <= 50), \"age\"] = 3\n",
    "all_data.loc[all_data.age > 50, \"age\"] = 4"
   ]
  },
  {
   "cell_type": "markdown",
   "metadata": {},
   "source": [
    "### Separation into training, validation and testing sets.\n",
    "\n",
    "Before I proceed any further, I think it is important that I separate the data into training, validation and testing sets. The purpose of doing this before any kind of imputation takes place so there is no target leakage in any of our experiments (ie. it is possible that we might find data points with nan values)."
   ]
  },
  {
   "cell_type": "code",
   "execution_count": 30,
   "metadata": {},
   "outputs": [],
   "source": [
    "from sklearn.model_selection import train_test_split\n",
    "\n",
    "train_x, val_x, train_y, val_y = train_test_split(all_data.drop(columns=\"covid19_test_results\"), all_data[\"covid19_test_results\"], test_size=0.3)\n",
    "val_x, test_x, val_y, test_y = train_test_split(val_x, val_y, test_size=0.3)"
   ]
  },
  {
   "cell_type": "markdown",
   "metadata": {},
   "source": [
    "Before I split the data further into the 4 types of sets we will use for each model, I shall take care of the following variables, since they are not part of any large group"
   ]
  },
  {
   "cell_type": "markdown",
   "metadata": {},
   "source": [
    "<u>high_risk_exposure_occupation:</u> The most obvious thing to do is to just fill the 169 missing values with the most frequent value. However, it occurred to me that since we ultimately are willing to have (maybe even encourage) false positives, it might be better to just put the ones that tested positive as True and the rest as False. This would require that I split the dataset into training, validation and testing set before I do any imputation to avoid any target leakage (the effect when knowing the result before hand affects how are we imputing the variables). The step to be taken (if I were to follow that route) would be then to impute the training data that tested positive as True, the rest as False, and any incoming unknown data (validation and test data) as True if we dont know the value of the feature. I might need to run an experiment when I do both.\n",
    "\n",
    "<u>high_risk_interaction:</u> This is easier than the previous one. We will just assign True to anything that has a 'high_risk_expossure_occupation' as True. The reasoning behind is is that if we don't know if the patient has had a high risk interaction, makes sense to say they did if their occupation is of high risk exposure."
   ]
  },
  {
   "cell_type": "code",
   "execution_count": 35,
   "metadata": {},
   "outputs": [],
   "source": [
    "def high_risk_exposure_imputation(data_x, data_y, target_imputation=False):\n",
    "    if training:\n",
    "        mode = data_x[data_y == \"Positive\"].high_risk_exposure_ocupation.mode()[0]\n",
    "    else:\n",
    "        mode = data_x.high_risk_exposure_ocupation.mode()[0]\n",
    "    data_x.loc[data_x[\"high_risk_exposure_ocupation\"].isna(), \"high_risk_exposure_ocupation\"] = mode\n",
    "    \n",
    "    data_x.loc[:, \"high_risk_interaction\"] = data[\"high_risk_exposure_ocupation\"]"
   ]
  },
  {
   "cell_type": "markdown",
   "metadata": {},
   "source": [
    "<u>Fever and temperature:</u> It would seem a little reduntant to preserve both 'fever' and 'temperature' since one could argue one feature is dependent on the other. However, since first I will be splitting the datasets into 4 differents sets, it makes sense to preserve both. Also we have an interesting case with 'fever' being a patient-reported symptom is very likely to be less trustworthy than the reading of the temperature taken by the clinic staff, so I will replace the value of 'fever' with True if the temperature is above 38° and with False if it is below 38°. The reverse holds also true: if I have no value of fever, I will use the temperature to infer the value."
   ]
  },
  {
   "cell_type": "code",
   "execution_count": 27,
   "metadata": {},
   "outputs": [
    {
     "name": "stdout",
     "output_type": "stream",
     "text": [
      "False    878\n",
      "True     219\n",
      "Name: fever, dtype: int64\n",
      "False    68049\n",
      "True      1776\n",
      "Name: fever, dtype: int64\n"
     ]
    }
   ],
   "source": [
    "#Fever data before correction\n",
    "print(all_data[(all_data[\"covid19_test_results\"] == \"Positive\")].fever.value_counts())\n",
    "print(all_data[(all_data[\"covid19_test_results\"] == \"Negative\")].fever.value_counts())"
   ]
  },
  {
   "cell_type": "code",
   "execution_count": 28,
   "metadata": {},
   "outputs": [],
   "source": [
    "all_data.loc[(all_data[\"fever\"] == True) & (all_data[\"temperature\"] <38), \"fever\"] = False\n",
    "all_data.loc[(all_data[\"fever\"] == False) & (all_data[\"temperature\"] >=38), \"fever\"] = True"
   ]
  },
  {
   "cell_type": "code",
   "execution_count": 29,
   "metadata": {},
   "outputs": [
    {
     "name": "stdout",
     "output_type": "stream",
     "text": [
      "False    1057\n",
      "True       40\n",
      "Name: fever, dtype: int64\n",
      "False    69455\n",
      "True       370\n",
      "Name: fever, dtype: int64\n"
     ]
    }
   ],
   "source": [
    "#Fever data after correction\n",
    "print(all_data[(all_data[\"covid19_test_results\"] == \"Positive\")].fever.value_counts())\n",
    "print(all_data[(all_data[\"covid19_test_results\"] == \"Negative\")].fever.value_counts())"
   ]
  },
  {
   "cell_type": "code",
   "execution_count": 51,
   "metadata": {},
   "outputs": [
    {
     "name": "stdout",
     "output_type": "stream",
     "text": [
      "covid19_test_results: ['Negative' 'Positive'] NaN values: 0\n",
      "high_risk_exposure_occupation: [True False nan] NaN values: 169\n",
      "high_risk_interactions: [nan True False] NaN values: 24808\n",
      "diabetes: [False True] NaN values: 0\n",
      "chd: [False True] NaN values: 0\n",
      "htn: [False True] NaN values: 0\n",
      "cancer: [False True] NaN values: 0\n",
      "asthma: [False True] NaN values: 0\n",
      "autoimmune_dis: [False True] NaN values: 0\n",
      "smoker: [False True] NaN values: 0\n",
      "ctab: [False nan True] NaN values: 58478\n",
      "labored_respiration: [False nan True] NaN values: 45227\n",
      "rhonchi: [False nan True] NaN values: 70574\n",
      "wheezes: [False nan True] NaN values: 66438\n",
      "cough: [True False nan] NaN values: 15\n",
      "cough_severity: ['Severe' 'Mild' 'None' 'Moderate' nan] NaN values: 15\n",
      "fever: [nan False True] NaN values: 22907\n",
      "sob: [False nan True] NaN values: 206\n",
      "sob_severity: ['None' nan 'Moderate' 'Mild'] NaN values: 206\n",
      "diarrhea: [False nan True] NaN values: 187\n",
      "fatigue: [False nan True] NaN values: 176\n",
      "headache: [False nan True] NaN values: 183\n",
      "loss_of_smell: [False nan True] NaN values: 190\n",
      "loss_of_taste: [False nan True] NaN values: 190\n",
      "runny_nose: [False nan True] NaN values: 187\n",
      "muscle_sore: [False nan True] NaN values: 182\n",
      "sore_throat: [False nan True] NaN values: 183\n"
     ]
    }
   ],
   "source": [
    "for column in all_data.columns:\n",
    "    if all_data[column].dtype == \"object\":\n",
    "        print(column + \":\", all_data[column].unique(), \"NaN values:\", all_data[column].isna().sum())"
   ]
  },
  {
   "cell_type": "code",
   "execution_count": 25,
   "metadata": {},
   "outputs": [
    {
     "name": "stdout",
     "output_type": "stream",
     "text": [
      "Positve values\n",
      "Positive    1304\n",
      "Name: covid19_test_results, dtype: int64\n",
      "False    1085\n",
      "True      214\n",
      "Name: high_risk_exposure_occupation, dtype: int64\n",
      "False    862\n",
      "True     209\n",
      "Name: high_risk_interactions, dtype: int64\n",
      "False    1277\n",
      "True       27\n",
      "Name: diabetes, dtype: int64\n",
      "False    1294\n",
      "True       10\n",
      "Name: chd, dtype: int64\n",
      "False    1220\n",
      "True       84\n",
      "Name: htn, dtype: int64\n",
      "False    1299\n",
      "True        5\n",
      "Name: cancer, dtype: int64\n",
      "False    1270\n",
      "True       34\n",
      "Name: asthma, dtype: int64\n",
      "False    1302\n",
      "True        2\n",
      "Name: autoimmune_dis, dtype: int64\n",
      "False    1242\n",
      "True       62\n",
      "Name: smoker, dtype: int64\n",
      "False    718\n",
      "True     160\n",
      "Name: ctab, dtype: int64\n",
      "False    1055\n",
      "True       13\n",
      "Name: labored_respiration, dtype: int64\n",
      "False    486\n",
      "True     101\n",
      "Name: rhonchi, dtype: int64\n",
      "False    540\n",
      "True     146\n",
      "Name: wheezes, dtype: int64\n",
      "False    879\n",
      "True     425\n",
      "Name: cough, dtype: int64\n",
      "False    878\n",
      "True     219\n",
      "Name: fever, dtype: int64\n",
      "False    1179\n",
      "True      120\n",
      "Name: sob, dtype: int64\n",
      "Mild        84\n",
      "Moderate    36\n",
      "Name: sob_severity, dtype: int64\n",
      "False    1218\n",
      "True       81\n",
      "Name: diarrhea, dtype: int64\n",
      "False    1071\n",
      "True      228\n",
      "Name: fatigue, dtype: int64\n",
      "False    1007\n",
      "True      292\n",
      "Name: headache, dtype: int64\n",
      "False    1143\n",
      "True      156\n",
      "Name: loss_of_smell, dtype: int64\n",
      "False    1160\n",
      "True      139\n",
      "Name: loss_of_taste, dtype: int64\n",
      "False    1154\n",
      "True      145\n",
      "Name: runny_nose, dtype: int64\n",
      "False    1067\n",
      "True      232\n",
      "Name: muscle_sore, dtype: int64\n",
      "False    1094\n",
      "True      205\n",
      "Name: sore_throat, dtype: int64\n",
      "Negative values\n",
      "Negative    92525\n",
      "Name: covid19_test_results, dtype: int64\n",
      "False    85667\n",
      "True      6694\n",
      "Name: high_risk_exposure_occupation, dtype: int64\n",
      "False    54005\n",
      "True     13945\n",
      "Name: high_risk_interactions, dtype: int64\n",
      "False    91898\n",
      "True       627\n",
      "Name: diabetes, dtype: int64\n",
      "False    92128\n",
      "True       397\n",
      "Name: chd, dtype: int64\n",
      "False    87843\n",
      "True      4682\n",
      "Name: htn, dtype: int64\n",
      "False    92280\n",
      "True       245\n",
      "Name: cancer, dtype: int64\n",
      "False    90220\n",
      "True      2305\n",
      "Name: asthma, dtype: int64\n",
      "False    92306\n",
      "True       219\n",
      "Name: autoimmune_dis, dtype: int64\n",
      "False    88673\n",
      "True      3852\n",
      "Name: smoker, dtype: int64\n",
      "False    24528\n",
      "True      9945\n",
      "Name: ctab, dtype: int64\n",
      "False    47165\n",
      "True       369\n",
      "Name: labored_respiration, dtype: int64\n",
      "False    15694\n",
      "True      6974\n",
      "Name: rhonchi, dtype: int64\n",
      "False    17332\n",
      "True      9373\n",
      "Name: wheezes, dtype: int64\n",
      "False    86524\n",
      "True      5986\n",
      "Name: cough, dtype: int64\n",
      "False    68049\n",
      "True      1776\n",
      "Name: fever, dtype: int64\n",
      "False    89243\n",
      "True      3081\n",
      "Name: sob, dtype: int64\n",
      "Mild        2011\n",
      "Moderate    1070\n",
      "Name: sob_severity, dtype: int64\n",
      "False    90551\n",
      "True      1792\n",
      "Name: diarrhea, dtype: int64\n",
      "False    86538\n",
      "True      5816\n",
      "Name: fatigue, dtype: int64\n",
      "False    87276\n",
      "True      5071\n",
      "Name: headache, dtype: int64\n",
      "False    91846\n",
      "True       494\n",
      "Name: loss_of_smell, dtype: int64\n",
      "False    91814\n",
      "True       526\n",
      "Name: loss_of_taste, dtype: int64\n",
      "False    89059\n",
      "True      3284\n",
      "Name: runny_nose, dtype: int64\n",
      "False    89236\n",
      "True      3112\n",
      "Name: muscle_sore, dtype: int64\n",
      "False    86686\n",
      "True      5661\n",
      "Name: sore_throat, dtype: int64\n"
     ]
    }
   ],
   "source": [
    "#This might be useful later\n",
    "print(\"Positve values\")\n",
    "for column in all_data.columns:\n",
    "    if all_data[column].nunique() <= 2:\n",
    "        print(all_data.loc[all_data[\"covid19_test_results\"] == \"Positive\", column].value_counts())\n",
    "\n",
    "print(\"Negative values\")\n",
    "for column in all_data.columns:\n",
    "    if all_data[column].nunique() <= 2:\n",
    "        print(all_data.loc[all_data[\"covid19_test_results\"] == \"Negative\", column].value_counts())"
   ]
  },
  {
   "cell_type": "code",
   "execution_count": null,
   "metadata": {},
   "outputs": [],
   "source": [
    "all_data[\"covid19_test_results\"].value_counts()[\"Positive\"] / len(all_data[\"covid19_test_results\"])"
   ]
  }
 ],
 "metadata": {
  "kernelspec": {
   "display_name": "Python 3",
   "language": "python",
   "name": "python3"
  },
  "language_info": {
   "codemirror_mode": {
    "name": "ipython",
    "version": 3
   },
   "file_extension": ".py",
   "mimetype": "text/x-python",
   "name": "python",
   "nbconvert_exporter": "python",
   "pygments_lexer": "ipython3",
   "version": "3.7.4"
  }
 },
 "nbformat": 4,
 "nbformat_minor": 4
}
